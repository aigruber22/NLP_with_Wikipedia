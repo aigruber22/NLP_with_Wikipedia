{
 "cells": [
  {
   "cell_type": "markdown",
   "metadata": {},
   "source": [
    "### Summary of Project\n",
    "\n",
    "The objective of this assignment is to engineer a novel wikipedia search engine using what you've learned about data collection, infrastructure, and natural language processing.\n",
    "\n",
    "The project has two components:\n",
    "- Data collection\n",
    "- Search algorithm development"
   ]
  },
  {
   "cell_type": "markdown",
   "metadata": {},
   "source": [
    "### Summary of Notebook:\n",
    "\n",
    "The following is notebook 1 of 3 for this project, NLP_with_Wikipedia.\n",
    "\n",
    "Steps contained in this notebook specifically:\n",
    "1. Establish a connection to a Mongo Database\n",
    "2. Interface with Wikipedia API and build a query to pull sub-categories and pages from 2 categories: 'Machine Learning' and 'Business Software'\n",
    "3. Store queried data in said Mongo Database."
   ]
  },
  {
   "cell_type": "markdown",
   "metadata": {},
   "source": [
    "----------------------"
   ]
  },
  {
   "cell_type": "markdown",
   "metadata": {},
   "source": [
    "### Initialization"
   ]
  },
  {
   "cell_type": "code",
   "execution_count": 2,
   "metadata": {},
   "outputs": [],
   "source": [
    "% run __init__.py\n",
    "% run mongo.py\n",
    "% matplotlib inline"
   ]
  },
  {
   "cell_type": "markdown",
   "metadata": {},
   "source": [
    "### Establishing Mongo Connection"
   ]
  },
  {
   "cell_type": "markdown",
   "metadata": {},
   "source": [
    "#### Importing Mongo and linking to database"
   ]
  },
  {
   "cell_type": "code",
   "execution_count": 2,
   "metadata": {},
   "outputs": [],
   "source": [
    "client = pymongo.MongoClient(aws_pubIP, 27016)"
   ]
  },
  {
   "cell_type": "markdown",
   "metadata": {},
   "source": [
    "** DO NOT RUN BELOW CELL UNLESS YOU WANT TO CLEAR THE WIKIPEDIA COLLECTION **"
   ]
  },
  {
   "cell_type": "code",
   "execution_count": 5,
   "metadata": {},
   "outputs": [],
   "source": [
    "# db_text = 'wikipedia_text'\n",
    "# client.drop_database(db_text)\n",
    "# all_txt_dict = {}"
   ]
  },
  {
   "cell_type": "code",
   "execution_count": 8,
   "metadata": {},
   "outputs": [],
   "source": [
    "db_ref = client.wikipedia_text\n",
    "collection_ref = db_ref.my_collection"
   ]
  },
  {
   "cell_type": "code",
   "execution_count": 9,
   "metadata": {},
   "outputs": [
    {
     "data": {
      "text/plain": [
       "(['admin', 'local', 'test', 'wikipedia_text'], ['my_collection'])"
      ]
     },
     "execution_count": 9,
     "metadata": {},
     "output_type": "execute_result"
    }
   ],
   "source": [
    "client.database_names(), db_ref.collection_names()"
   ]
  },
  {
   "cell_type": "markdown",
   "metadata": {},
   "source": [
    "### Pulling data from Wikipedia API"
   ]
  },
  {
   "cell_type": "markdown",
   "metadata": {},
   "source": [
    "#### Below is the wikipedia api call for a category search:\n",
    "\n",
    "`http://en.wikipedia.org/w/api.php?action=query&format=json&list=categorymembers&cmtitle=Category%3A+machine+learning&cmlimit=max`\n",
    "\n",
    "`action=query`: query the wikipedia api\n",
    "\n",
    "`format=json`: return a json format\n",
    "\n",
    "`list=categorymembers`: List of pages that belong to a given category, ordered by page sort title\n",
    "\n",
    "`cmtitle=Category%3A+machine+learning`: title of category\n",
    "\n",
    "`climit=max`: return up to the maximum amount of responses (500)\n",
    "\n",
    "You may use this to get page titles from the wikipedia API. Things to watch out for:\n",
    "* The responses contain categories\n",
    "* You will want to fetch articles in those subcategories\n",
    "\n",
    "The API's detailed documentation can be found [here](https://www.mediawiki.org/wiki/API:Main_page)"
   ]
  },
  {
   "cell_type": "markdown",
   "metadata": {},
   "source": [
    "### Ensure correct formatting of category name before building into query"
   ]
  },
  {
   "cell_type": "code",
   "execution_count": null,
   "metadata": {},
   "outputs": [],
   "source": [
    "def format_name(search_name):\n",
    "    search_name = search_name.replace(':', '%3A')\n",
    "    search_name = search_name.replace(' ', '+')\n",
    "    return search_name"
   ]
  },
  {
   "cell_type": "markdown",
   "metadata": {},
   "source": [
    "Storing \"machine learning\" as a category variable"
   ]
  },
  {
   "cell_type": "code",
   "execution_count": null,
   "metadata": {},
   "outputs": [],
   "source": [
    "ml_category = \"Category:Machine learning\""
   ]
  },
  {
   "cell_type": "markdown",
   "metadata": {},
   "source": [
    "Storing \"business software\" as category variable"
   ]
  },
  {
   "cell_type": "code",
   "execution_count": null,
   "metadata": {},
   "outputs": [],
   "source": [
    "bs_category = \"Category:Business software\""
   ]
  },
  {
   "cell_type": "code",
   "execution_count": null,
   "metadata": {},
   "outputs": [],
   "source": [
    "format_name(ml_category)"
   ]
  },
  {
   "cell_type": "code",
   "execution_count": null,
   "metadata": {},
   "outputs": [],
   "source": [
    "format_name(bs_category)"
   ]
  },
  {
   "cell_type": "markdown",
   "metadata": {},
   "source": [
    "### Query JSON from Wikipedia API for Categories"
   ]
  },
  {
   "cell_type": "code",
   "execution_count": null,
   "metadata": {},
   "outputs": [],
   "source": [
    "def get_cat_stuff(category):\n",
    "    category = format_name(category)\n",
    "    query = requests.get('http://en.wikipedia.org/w/api.php? + \\\n",
    "                         action=query&format=json&list=categorymembers& + \\\n",
    "                         cmtitle={}&cmlimit=max'.format(category))\n",
    "    #print(\"200 is good here ->\", query.status_code)\n",
    "    return query.json()"
   ]
  },
  {
   "cell_type": "code",
   "execution_count": null,
   "metadata": {},
   "outputs": [],
   "source": [
    "cat_json = get_cat_stuff(ml_category)"
   ]
  },
  {
   "cell_type": "markdown",
   "metadata": {},
   "source": [
    "### Query JSON from Wikipedia API for Pages"
   ]
  },
  {
   "cell_type": "code",
   "execution_count": null,
   "metadata": {},
   "outputs": [],
   "source": [
    "def get_page_stuff(pageid):\n",
    "    query = requests.get('http://en.wikipedia.org/w/api.php? + \\\n",
    "                     action=query&format=json&prop=extracts& + \\\n",
    "                     rvprop=contents&pageids={}'.format(pageid))\n",
    "    #print(\"200 is good here ->\", query.status_code)\n",
    "    return query.json()"
   ]
  },
  {
   "cell_type": "markdown",
   "metadata": {},
   "source": [
    "### Convert Category JSON to DataFrame"
   ]
  },
  {
   "cell_type": "code",
   "execution_count": null,
   "metadata": {},
   "outputs": [],
   "source": [
    "def cat_query_to_df(category):\n",
    "    cat_json = get_cat_stuff(category)\n",
    "    df = pd.DataFrame(cat_json['query']['categorymembers'])\n",
    "    return df"
   ]
  },
  {
   "cell_type": "markdown",
   "metadata": {},
   "source": [
    "Check to see unique values for `ns`"
   ]
  },
  {
   "cell_type": "code",
   "execution_count": null,
   "metadata": {},
   "outputs": [],
   "source": [
    "df = cat_query_to_df(ml_category)"
   ]
  },
  {
   "cell_type": "code",
   "execution_count": null,
   "metadata": {},
   "outputs": [],
   "source": [
    "df.shape, df[df['ns']==0].shape"
   ]
  },
  {
   "cell_type": "markdown",
   "metadata": {},
   "source": [
    "### Index page JSON down to desired dictionary"
   ]
  },
  {
   "cell_type": "code",
   "execution_count": null,
   "metadata": {
    "scrolled": true
   },
   "outputs": [],
   "source": [
    "get_page_stuff(32003319)"
   ]
  },
  {
   "cell_type": "code",
   "execution_count": null,
   "metadata": {},
   "outputs": [],
   "source": [
    "def page_query_to_dict(pageid):\n",
    "    pageid = str(pageid)\n",
    "    page_json = get_page_stuff(pageid) \n",
    "    txt = page_json['query']['pages'][pageid]['extract']\n",
    "    return txt"
   ]
  },
  {
   "cell_type": "code",
   "execution_count": null,
   "metadata": {},
   "outputs": [],
   "source": [
    "page_query_to_dict(32003319)"
   ]
  },
  {
   "cell_type": "markdown",
   "metadata": {},
   "source": [
    "### Scan Category for Sub-Categories and Pages - Recursion"
   ]
  },
  {
   "cell_type": "code",
   "execution_count": null,
   "metadata": {},
   "outputs": [],
   "source": [
    "def cat_scan(category, max_depth, p_category = None):\n",
    "    try:\n",
    "        df = cat_query_to_df(category)\n",
    "        \n",
    "        if p_category == None:\n",
    "            p_category = category\n",
    "        \n",
    "        max_depth -= 1\n",
    "        for i, row in df.iterrows():\n",
    "            if row['ns'] == 0:\n",
    "                page_scan(str(row['pageid']), row['title'], category, p_category)\n",
    "                \n",
    "            elif row['ns'] == 14:\n",
    "                if max_depth > 0:\n",
    "                    cat_scan(row['title'], max_depth, p_category = p_category)\n",
    "            else:\n",
    "                pass\n",
    "    except:\n",
    "        with open('../data/problem_pages.txt','a') as myfile:\n",
    "            problem_txt = (title + ',' + p_immed + ',' + p_category + '\\n')\n",
    "            myfile.write(problem_txt)"
   ]
  },
  {
   "cell_type": "markdown",
   "metadata": {},
   "source": [
    "### Scan Page for Text"
   ]
  },
  {
   "cell_type": "code",
   "execution_count": null,
   "metadata": {},
   "outputs": [],
   "source": [
    "def page_scan(pageid, title, p_immed, p_category):\n",
    "    try:   \n",
    "        txt = page_query_to_dict(pageid)\n",
    "        dictkey = pageid + p_category\n",
    "        \n",
    "        if dictkey not in all_txt_dict.keys():\n",
    "            all_txt_dict[dictkey] = {\n",
    "                            'pageid':pageid,\n",
    "                            'text':txt,\n",
    "                            'page_title':title,\n",
    "                            'parent_category':p_category,\n",
    "                            'immediate_parent_category':p_immed\n",
    "                            }\n",
    "    \n",
    "    except:\n",
    "        with open('../data/problem_pages.txt','a') as myfile:\n",
    "            problem_txt = (title + ',' + p_immed + ',' + p_category + '\\n')\n",
    "            myfile.write(problem_txt)"
   ]
  },
  {
   "cell_type": "markdown",
   "metadata": {},
   "source": [
    "Let's try running our Scan"
   ]
  },
  {
   "cell_type": "code",
   "execution_count": null,
   "metadata": {
    "scrolled": false
   },
   "outputs": [],
   "source": [
    "cat_scan(ml_category, 3)"
   ]
  },
  {
   "cell_type": "code",
   "execution_count": null,
   "metadata": {},
   "outputs": [],
   "source": [
    "len(all_txt_dict)"
   ]
  },
  {
   "cell_type": "code",
   "execution_count": null,
   "metadata": {},
   "outputs": [],
   "source": [
    "cat_scan(bs_category, 3)"
   ]
  },
  {
   "cell_type": "code",
   "execution_count": null,
   "metadata": {},
   "outputs": [],
   "source": [
    "len(all_txt_dict)"
   ]
  },
  {
   "cell_type": "markdown",
   "metadata": {},
   "source": [
    "### Store Text Dictionary onto Mongo DB"
   ]
  },
  {
   "cell_type": "code",
   "execution_count": null,
   "metadata": {},
   "outputs": [],
   "source": [
    "def mongo_push(dictionary):\n",
    "    all_txt_dict = dictionary.values()\n",
    "    collection_ref.insert_many(all_txt_dict)"
   ]
  },
  {
   "cell_type": "code",
   "execution_count": null,
   "metadata": {},
   "outputs": [],
   "source": [
    "mongo_push(all_txt_dict)"
   ]
  },
  {
   "cell_type": "code",
   "execution_count": null,
   "metadata": {},
   "outputs": [],
   "source": [
    "client.database_names(), db_ref.collection_names()"
   ]
  },
  {
   "cell_type": "code",
   "execution_count": 7,
   "metadata": {},
   "outputs": [
    {
     "data": {
      "text/plain": [
       "4099"
      ]
     },
     "execution_count": 7,
     "metadata": {},
     "output_type": "execute_result"
    }
   ],
   "source": [
    "collection_ref.count()"
   ]
  },
  {
   "cell_type": "code",
   "execution_count": null,
   "metadata": {},
   "outputs": [],
   "source": []
  }
 ],
 "metadata": {
  "kernelspec": {
   "display_name": "Python 3",
   "language": "python",
   "name": "python3"
  },
  "language_info": {
   "codemirror_mode": {
    "name": "ipython",
    "version": 3
   },
   "file_extension": ".py",
   "mimetype": "text/x-python",
   "name": "python",
   "nbconvert_exporter": "python",
   "pygments_lexer": "ipython3",
   "version": "3.6.2"
  }
 },
 "nbformat": 4,
 "nbformat_minor": 2
}
