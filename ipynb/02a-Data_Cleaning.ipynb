{
 "cells": [
  {
   "cell_type": "markdown",
   "metadata": {},
   "source": [
    "### Summary of Project 4\n",
    "\n",
    "Project 4 instructions is as such:\n",
    "The objective of this assignment is to engineer a novel wikipedia search engine using what you've learned about data collection, infrastructure, and natural language processing.\n",
    "\n",
    "The task has two **required sections:**\n",
    "- Data collection\n",
    "- Search algorithm development"
   ]
  },
  {
   "cell_type": "markdown",
   "metadata": {},
   "source": [
    "### Summary of Notebook:\n",
    "\n",
    "As part of the General Assembly Data Science Immersive Course, the following is notebook 2 of 3 for Project 4.\n",
    "\n",
    "Steps contained in this notebook specifically:\n",
    "1. Reconnect to instantiated Mongo Database\n",
    "2. Clean the `text` column of each page\n",
    "3. Pickle the cleaned data set for easy access in notebook 3"
   ]
  },
  {
   "cell_type": "markdown",
   "metadata": {},
   "source": [
    "----------------------"
   ]
  },
  {
   "cell_type": "markdown",
   "metadata": {},
   "source": [
    "### Connect to Wikipedia Collection inside Mongo DB"
   ]
  },
  {
   "cell_type": "code",
   "execution_count": 11,
   "metadata": {
    "collapsed": true
   },
   "outputs": [
    {
     "name": "stdout",
     "output_type": "stream",
     "text": [
      "\n",
      "\n",
      "Package plan for installation in environment /opt/conda:\n",
      "\n",
      "The following NEW packages will be INSTALLED:\n",
      "\n",
      "    altair: 1.2.1-py_0   conda-forge\n",
      "    vega:   0.4.4-py36_1 conda-forge\n",
      "\n",
      "Installing /opt/conda/lib/python3.6/site-packages/vega/static -> jupyter-vega\n",
      "Making directory: /opt/conda/share/jupyter/nbextensions/jupyter-vega/\n",
      "Copying: /opt/conda/lib/python3.6/site-packages/vega/static/vega.js -> /opt/conda/share/jupyter/nbextensions/jupyter-vega/vega.js\n",
      "Copying: /opt/conda/lib/python3.6/site-packages/vega/static/vega-lite.html -> /opt/conda/share/jupyter/nbextensions/jupyter-vega/vega-lite.html\n",
      "Copying: /opt/conda/lib/python3.6/site-packages/vega/static/index.js -> /opt/conda/share/jupyter/nbextensions/jupyter-vega/index.js\n",
      "Copying: /opt/conda/lib/python3.6/site-packages/vega/static/index.js.map -> /opt/conda/share/jupyter/nbextensions/jupyter-vega/index.js.map\n",
      "Copying: /opt/conda/lib/python3.6/site-packages/vega/static/vega.html -> /opt/conda/share/jupyter/nbextensions/jupyter-vega/vega.html\n",
      "- Validating: \u001b[32mOK\u001b[0m\n",
      "\n",
      "    To initialize this nbextension in the browser every time the notebook (or other app) loads:\n",
      "    \n",
      "          jupyter nbextension enable vega --py --sys-prefix\n",
      "    \n",
      "\n",
      "Collecting spacy\n",
      "  Downloading spacy-2.0.3.tar.gz (13.2MB)\n",
      "\u001b[K    100% |████████████████████████████████| 13.2MB 68kB/s  eta 0:00:01 0% |▏                               | 71kB 3.6MB/s eta 0:00:04    2% |▊                               | 296kB 3.7MB/s eta 0:00:04    23% |███████▊                        | 3.2MB 9.1MB/s eta 0:00:02    39% |████████████▋                   | 5.2MB 12.2MB/s eta 0:00:01    43% |██████████████                  | 5.8MB 11.5MB/s eta 0:00:01    92% |█████████████████████████████▌  | 12.1MB 12.6MB/s eta 0:00:01    98% |███████████████████████████████▍| 12.9MB 15.6MB/s eta 0:00:01\n",
      "\u001b[?25hCollecting nltk\n",
      "  Downloading nltk-3.2.5.tar.gz (1.2MB)\n",
      "\u001b[K    100% |████████████████████████████████| 1.2MB 618kB/s eta 0:00:01\n",
      "\u001b[?25hRequirement already satisfied: numpy>=1.7 in /opt/conda/lib/python3.6/site-packages (from spacy)\n",
      "Collecting murmurhash<0.29,>=0.28 (from spacy)\n",
      "  Downloading murmurhash-0.28.0.tar.gz\n",
      "Collecting cymem<1.32,>=1.30 (from spacy)\n",
      "  Downloading cymem-1.31.2.tar.gz\n",
      "Collecting preshed<2.0.0,>=1.0.0 (from spacy)\n",
      "  Downloading preshed-1.0.0.tar.gz (89kB)\n",
      "\u001b[K    100% |████████████████████████████████| 92kB 4.3MB/s eta 0:00:01\n",
      "\u001b[?25hCollecting thinc<6.11.0,>=6.10.1 (from spacy)\n",
      "  Downloading thinc-6.10.1.tar.gz (1.2MB)\n",
      "\u001b[K    100% |████████████████████████████████| 1.2MB 422kB/s eta 0:00:01\n",
      "\u001b[?25hCollecting plac<1.0.0,>=0.9.6 (from spacy)\n",
      "  Downloading plac-0.9.6-py2.py3-none-any.whl\n",
      "Requirement already satisfied: six in /opt/conda/lib/python3.6/site-packages (from spacy)\n",
      "Collecting pathlib (from spacy)\n",
      "  Downloading pathlib-1.0.1.tar.gz (49kB)\n",
      "\u001b[K    100% |████████████████████████████████| 51kB 2.6MB/s eta 0:00:01\n",
      "\u001b[?25hCollecting ujson>=1.35 (from spacy)\n",
      "  Downloading ujson-1.35.tar.gz (192kB)\n",
      "\u001b[K    100% |████████████████████████████████| 194kB 2.9MB/s eta 0:00:01\n",
      "\u001b[?25hRequirement already satisfied: dill<0.3,>=0.2 in /opt/conda/lib/python3.6/site-packages (from spacy)\n",
      "Requirement already satisfied: requests<3.0.0,>=2.13.0 in /opt/conda/lib/python3.6/site-packages (from spacy)\n",
      "Collecting regex==2017.4.5 (from spacy)\n",
      "  Downloading regex-2017.04.05.tar.gz (601kB)\n",
      "\u001b[K    100% |████████████████████████████████| 604kB 948kB/s eta 0:00:01\n",
      "\u001b[?25hCollecting ftfy<5.0.0,>=4.4.2 (from spacy)\n",
      "  Downloading ftfy-4.4.3.tar.gz (50kB)\n",
      "\u001b[K    100% |████████████████████████████████| 51kB 2.4MB/s eta 0:00:01\n",
      "\u001b[?25hRequirement already satisfied: msgpack-python in /opt/conda/lib/python3.6/site-packages (from spacy)\n",
      "Collecting msgpack-numpy (from spacy)\n",
      "  Downloading msgpack_numpy-0.4.1-py2.py3-none-any.whl\n",
      "Collecting wrapt (from thinc<6.11.0,>=6.10.1->spacy)\n",
      "  Downloading wrapt-1.10.11.tar.gz\n",
      "Requirement already satisfied: tqdm<5.0.0,>=4.10.0 in /opt/conda/lib/python3.6/site-packages (from thinc<6.11.0,>=6.10.1->spacy)\n",
      "Collecting cytoolz<0.9,>=0.8 (from thinc<6.11.0,>=6.10.1->spacy)\n",
      "  Downloading cytoolz-0.8.2.tar.gz (386kB)\n",
      "\u001b[K    100% |████████████████████████████████| 389kB 1.6MB/s eta 0:00:01\n",
      "\u001b[?25hCollecting termcolor (from thinc<6.11.0,>=6.10.1->spacy)\n",
      "  Downloading termcolor-1.1.0.tar.gz\n",
      "Requirement already satisfied: chardet<3.1.0,>=3.0.2 in /opt/conda/lib/python3.6/site-packages (from requests<3.0.0,>=2.13.0->spacy)\n",
      "Requirement already satisfied: idna<2.7,>=2.5 in /opt/conda/lib/python3.6/site-packages (from requests<3.0.0,>=2.13.0->spacy)\n",
      "Requirement already satisfied: urllib3<1.23,>=1.21.1 in /opt/conda/lib/python3.6/site-packages (from requests<3.0.0,>=2.13.0->spacy)\n",
      "Requirement already satisfied: certifi>=2017.4.17 in /opt/conda/lib/python3.6/site-packages (from requests<3.0.0,>=2.13.0->spacy)\n",
      "Requirement already satisfied: html5lib in /opt/conda/lib/python3.6/site-packages (from ftfy<5.0.0,>=4.4.2->spacy)\n",
      "Requirement already satisfied: wcwidth in /opt/conda/lib/python3.6/site-packages (from ftfy<5.0.0,>=4.4.2->spacy)\n",
      "Requirement already satisfied: toolz>=0.8.0 in /opt/conda/lib/python3.6/site-packages (from cytoolz<0.9,>=0.8->thinc<6.11.0,>=6.10.1->spacy)\n",
      "Requirement already satisfied: setuptools>=18.5 in /opt/conda/lib/python3.6/site-packages (from html5lib->ftfy<5.0.0,>=4.4.2->spacy)\n",
      "Requirement already satisfied: webencodings in /opt/conda/lib/python3.6/site-packages (from html5lib->ftfy<5.0.0,>=4.4.2->spacy)\n",
      "Building wheels for collected packages: spacy, nltk, murmurhash, cymem, preshed, thinc, pathlib, ujson, regex, ftfy, wrapt, cytoolz, termcolor\n",
      "  Running setup.py bdist_wheel for spacy ... \u001b[?25ldone\n",
      "\u001b[?25h  Stored in directory: /home/jovyan/.cache/pip/wheels/92/5a/42/4f93b5c15c0fac0b7cb87678a421cdb8e059f4ee4a494424d3\n",
      "  Running setup.py bdist_wheel for nltk ... \u001b[?25ldone\n",
      "\u001b[?25h  Stored in directory: /home/jovyan/.cache/pip/wheels/18/9c/1f/276bc3f421614062468cb1c9d695e6086d0c73d67ea363c501\n",
      "  Running setup.py bdist_wheel for murmurhash ... \u001b[?25ldone\n",
      "\u001b[?25h  Stored in directory: /home/jovyan/.cache/pip/wheels/67/30/e2/ef52a408eda4b23581669abfd1c1516a931d9e53f2e7616cb9\n",
      "  Running setup.py bdist_wheel for cymem ... \u001b[?25ldone\n",
      "\u001b[?25h  Stored in directory: /home/jovyan/.cache/pip/wheels/4b/2a/0e/dce3ff7a6f0f916906ef978afe512a7b5aef8abfd9ba988acf\n",
      "  Running setup.py bdist_wheel for preshed ... \u001b[?25ldone\n",
      "\u001b[?25h  Stored in directory: /home/jovyan/.cache/pip/wheels/97/64/22/20fabf1f51039b799e64e46d0381b023cfdbe159c349d7c135\n",
      "  Running setup.py bdist_wheel for thinc ... \u001b[?25ldone\n",
      "\u001b[?25h  Stored in directory: /home/jovyan/.cache/pip/wheels/1c/9f/bb/6d1a397e71b9462726e05da7b259f1fd8837d9d8761d08a7df\n",
      "  Running setup.py bdist_wheel for pathlib ... \u001b[?25ldone\n",
      "\u001b[?25h  Stored in directory: /home/jovyan/.cache/pip/wheels/2a/23/a5/d8803db5d631e9f391fe6defe982a238bf5483062eeb34e841\n",
      "  Running setup.py bdist_wheel for ujson ... \u001b[?25ldone\n",
      "\u001b[?25h  Stored in directory: /home/jovyan/.cache/pip/wheels/9e/9b/d0/df92653bb5b2664c15d8ee5b99e3f2eb08a034444db8922b2f\n",
      "  Running setup.py bdist_wheel for regex ... \u001b[?25ldone\n",
      "\u001b[?25h  Stored in directory: /home/jovyan/.cache/pip/wheels/28/20/68/c71f468f76d9bd81730a7633ace0ad30507cf99166314109a1\n",
      "  Running setup.py bdist_wheel for ftfy ... \u001b[?25ldone\n",
      "\u001b[?25h  Stored in directory: /home/jovyan/.cache/pip/wheels/ae/d7/4c/339066248431397227741c7fdc80ad85826188ee9b0c24b4c7\n",
      "  Running setup.py bdist_wheel for wrapt ... \u001b[?25ldone\n",
      "\u001b[?25h  Stored in directory: /home/jovyan/.cache/pip/wheels/56/e1/0f/f7ccf1ed8ceaabccc2a93ce0481f73e589814cbbc439291345\n",
      "  Running setup.py bdist_wheel for cytoolz ... \u001b[?25ldone\n",
      "\u001b[?25h  Stored in directory: /home/jovyan/.cache/pip/wheels/52/92/ed/661ecb7a67b42b21fc3dea140abb9ae9b8e94e72f0b3aff6c1\n",
      "  Running setup.py bdist_wheel for termcolor ... \u001b[?25ldone\n",
      "\u001b[?25h  Stored in directory: /home/jovyan/.cache/pip/wheels/de/f7/bf/1bcac7bf30549e6a4957382e2ecab04c88e513117207067b03\n",
      "Successfully built spacy nltk murmurhash cymem preshed thinc pathlib ujson regex ftfy wrapt cytoolz termcolor\n",
      "Installing collected packages: murmurhash, cymem, preshed, wrapt, cytoolz, plac, termcolor, pathlib, msgpack-numpy, thinc, ujson, regex, ftfy, spacy, nltk\n",
      "Successfully installed cymem-1.31.2 cytoolz-0.8.2 ftfy-4.4.3 msgpack-numpy-0.4.1 murmurhash-0.28.0 nltk-3.2.5 pathlib-1.0.1 plac-0.9.6 preshed-1.0.0 regex-2017.4.5 spacy-2.0.3 termcolor-1.1.0 thinc-6.10.1 ujson-1.35 wrapt-1.10.11\n"
     ]
    },
    {
     "name": "stdout",
     "output_type": "stream",
     "text": [
      "Collecting https://github.com/explosion/spacy-models/releases/download/en_core_web_sm-2.0.0/en_core_web_sm-2.0.0.tar.gz\n",
      "  Downloading https://github.com/explosion/spacy-models/releases/download/en_core_web_sm-2.0.0/en_core_web_sm-2.0.0.tar.gz (37.4MB)\n",
      "\u001b[K    100% |████████████████████████████████| 37.4MB 31.0MB/s ta 0:00:0110% |▏                               | 174kB 758kB/s eta 0:00:49    7% |██▎                             | 2.6MB 9.9MB/s eta 0:00:04    10% |███▍                            | 3.9MB 5.8MB/s eta 0:00:06    13% |████▍                           | 5.2MB 16.7MB/s eta 0:00:02    24% |███████▉                        | 9.2MB 16.2MB/s eta 0:00:02    35% |███████████▎                    | 13.1MB 13.4MB/s eta 0:00:02    42% |█████████████▊                  | 16.1MB 16.7MB/s eta 0:00:02    54% |█████████████████▌              | 20.4MB 28.6MB/s eta 0:00:01    56% |██████████████████              | 21.0MB 6.7MB/s eta 0:00:03    60% |███████████████████▍            | 22.6MB 20.5MB/s eta 0:00:01    70% |██████████████████████▋         | 26.4MB 15.2MB/s eta 0:00:01    86% |███████████████████████████▊    | 32.4MB 23.9MB/s eta 0:00:01    92% |█████████████████████████████▌  | 34.5MB 16.0MB/s eta 0:00:01    93% |██████████████████████████████  | 35.1MB 23.2MB/s eta 0:00:01\n",
      "\u001b[?25hRequirement already satisfied: spacy>=2.0.0a18 in /opt/conda/lib/python3.6/site-packages (from en-core-web-sm==2.0.0)\n",
      "Requirement already satisfied: cymem<1.32,>=1.30 in /opt/conda/lib/python3.6/site-packages (from spacy>=2.0.0a18->en-core-web-sm==2.0.0)\n",
      "Requirement already satisfied: pathlib in /opt/conda/lib/python3.6/site-packages (from spacy>=2.0.0a18->en-core-web-sm==2.0.0)\n",
      "Requirement already satisfied: ftfy<5.0.0,>=4.4.2 in /opt/conda/lib/python3.6/site-packages (from spacy>=2.0.0a18->en-core-web-sm==2.0.0)\n",
      "Requirement already satisfied: numpy>=1.7 in /opt/conda/lib/python3.6/site-packages (from spacy>=2.0.0a18->en-core-web-sm==2.0.0)\n",
      "Requirement already satisfied: dill<0.3,>=0.2 in /opt/conda/lib/python3.6/site-packages (from spacy>=2.0.0a18->en-core-web-sm==2.0.0)\n",
      "Requirement already satisfied: requests<3.0.0,>=2.13.0 in /opt/conda/lib/python3.6/site-packages (from spacy>=2.0.0a18->en-core-web-sm==2.0.0)\n",
      "Requirement already satisfied: preshed<2.0.0,>=1.0.0 in /opt/conda/lib/python3.6/site-packages (from spacy>=2.0.0a18->en-core-web-sm==2.0.0)\n",
      "Requirement already satisfied: msgpack-numpy in /opt/conda/lib/python3.6/site-packages (from spacy>=2.0.0a18->en-core-web-sm==2.0.0)\n",
      "Requirement already satisfied: murmurhash<0.29,>=0.28 in /opt/conda/lib/python3.6/site-packages (from spacy>=2.0.0a18->en-core-web-sm==2.0.0)\n",
      "Requirement already satisfied: plac<1.0.0,>=0.9.6 in /opt/conda/lib/python3.6/site-packages (from spacy>=2.0.0a18->en-core-web-sm==2.0.0)\n",
      "Requirement already satisfied: six in /opt/conda/lib/python3.6/site-packages (from spacy>=2.0.0a18->en-core-web-sm==2.0.0)\n",
      "Requirement already satisfied: ujson>=1.35 in /opt/conda/lib/python3.6/site-packages (from spacy>=2.0.0a18->en-core-web-sm==2.0.0)\n",
      "Requirement already satisfied: thinc<6.11.0,>=6.10.1 in /opt/conda/lib/python3.6/site-packages (from spacy>=2.0.0a18->en-core-web-sm==2.0.0)\n",
      "Requirement already satisfied: regex==2017.4.5 in /opt/conda/lib/python3.6/site-packages (from spacy>=2.0.0a18->en-core-web-sm==2.0.0)\n",
      "Requirement already satisfied: msgpack-python in /opt/conda/lib/python3.6/site-packages (from spacy>=2.0.0a18->en-core-web-sm==2.0.0)\n",
      "Requirement already satisfied: wcwidth in /opt/conda/lib/python3.6/site-packages (from ftfy<5.0.0,>=4.4.2->spacy>=2.0.0a18->en-core-web-sm==2.0.0)\n",
      "Requirement already satisfied: html5lib in /opt/conda/lib/python3.6/site-packages (from ftfy<5.0.0,>=4.4.2->spacy>=2.0.0a18->en-core-web-sm==2.0.0)\n",
      "Requirement already satisfied: chardet<3.1.0,>=3.0.2 in /opt/conda/lib/python3.6/site-packages (from requests<3.0.0,>=2.13.0->spacy>=2.0.0a18->en-core-web-sm==2.0.0)\n",
      "Requirement already satisfied: idna<2.7,>=2.5 in /opt/conda/lib/python3.6/site-packages (from requests<3.0.0,>=2.13.0->spacy>=2.0.0a18->en-core-web-sm==2.0.0)\n",
      "Requirement already satisfied: urllib3<1.23,>=1.21.1 in /opt/conda/lib/python3.6/site-packages (from requests<3.0.0,>=2.13.0->spacy>=2.0.0a18->en-core-web-sm==2.0.0)\n",
      "Requirement already satisfied: certifi>=2017.4.17 in /opt/conda/lib/python3.6/site-packages (from requests<3.0.0,>=2.13.0->spacy>=2.0.0a18->en-core-web-sm==2.0.0)\n",
      "Requirement already satisfied: cytoolz<0.9,>=0.8 in /opt/conda/lib/python3.6/site-packages (from thinc<6.11.0,>=6.10.1->spacy>=2.0.0a18->en-core-web-sm==2.0.0)\n",
      "Requirement already satisfied: termcolor in /opt/conda/lib/python3.6/site-packages (from thinc<6.11.0,>=6.10.1->spacy>=2.0.0a18->en-core-web-sm==2.0.0)\n",
      "Requirement already satisfied: wrapt in /opt/conda/lib/python3.6/site-packages (from thinc<6.11.0,>=6.10.1->spacy>=2.0.0a18->en-core-web-sm==2.0.0)\n",
      "Requirement already satisfied: tqdm<5.0.0,>=4.10.0 in /opt/conda/lib/python3.6/site-packages (from thinc<6.11.0,>=6.10.1->spacy>=2.0.0a18->en-core-web-sm==2.0.0)\n",
      "Requirement already satisfied: webencodings in /opt/conda/lib/python3.6/site-packages (from html5lib->ftfy<5.0.0,>=4.4.2->spacy>=2.0.0a18->en-core-web-sm==2.0.0)\n",
      "Requirement already satisfied: setuptools>=18.5 in /opt/conda/lib/python3.6/site-packages (from html5lib->ftfy<5.0.0,>=4.4.2->spacy>=2.0.0a18->en-core-web-sm==2.0.0)\n",
      "Requirement already satisfied: toolz>=0.8.0 in /opt/conda/lib/python3.6/site-packages (from cytoolz<0.9,>=0.8->thinc<6.11.0,>=6.10.1->spacy>=2.0.0a18->en-core-web-sm==2.0.0)\n",
      "Installing collected packages: en-core-web-sm\n",
      "  Running setup.py install for en-core-web-sm ... \u001b[?25ldone\n",
      "\u001b[?25hSuccessfully installed en-core-web-sm-2.0.0\n",
      "\n",
      "\u001b[93m    Linking successful\u001b[0m\n",
      "    /opt/conda/lib/python3.6/site-packages/en_core_web_sm -->\n",
      "    /opt/conda/lib/python3.6/site-packages/spacy/data/en\n",
      "\n",
      "    You can now load the model via spacy.load('en')\n",
      "\n"
     ]
    }
   ],
   "source": [
    "# !conda install --yes --quiet pymongo altair psycopg2\n",
    "# !pip install spacy nltk\n",
    "# !python -m spacy download en"
   ]
  },
  {
   "cell_type": "markdown",
   "metadata": {},
   "source": [
    "### Initialization"
   ]
  },
  {
   "cell_type": "code",
   "execution_count": 26,
   "metadata": {},
   "outputs": [
    {
     "name": "stdout",
     "output_type": "stream",
     "text": [
      "[nltk_data] Downloading package stopwords to /home/jovyan/nltk_data...\n",
      "[nltk_data]   Package stopwords is already up-to-date!\n"
     ]
    }
   ],
   "source": [
    "% run __init__.py\n",
    "% run mongo.py\n",
    "% run nlp.py\n",
    "% matplotlib inline"
   ]
  },
  {
   "cell_type": "code",
   "execution_count": 18,
   "metadata": {},
   "outputs": [],
   "source": [
    "client = pymongo.MongoClient(aws_pubIP, 27016)"
   ]
  },
  {
   "cell_type": "code",
   "execution_count": 19,
   "metadata": {},
   "outputs": [],
   "source": [
    "db_ref = client.wikipedia_text\n",
    "collection_ref = db_ref.my_collection"
   ]
  },
  {
   "cell_type": "code",
   "execution_count": 20,
   "metadata": {},
   "outputs": [
    {
     "data": {
      "text/plain": [
       "(['admin', 'local', 'test', 'wikipedia_text'], ['my_collection'])"
      ]
     },
     "execution_count": 20,
     "metadata": {},
     "output_type": "execute_result"
    }
   ],
   "source": [
    "client.database_names(), db_ref.collection_names()"
   ]
  },
  {
   "cell_type": "markdown",
   "metadata": {},
   "source": [
    "Do not need the cursor, but instantiated just in case"
   ]
  },
  {
   "cell_type": "code",
   "execution_count": 21,
   "metadata": {},
   "outputs": [],
   "source": [
    "cursor = collection_ref.find()"
   ]
  },
  {
   "cell_type": "markdown",
   "metadata": {},
   "source": [
    "### Pull data from MongoDB Wikipedia Collection"
   ]
  },
  {
   "cell_type": "markdown",
   "metadata": {},
   "source": [
    "Stored data from Mongo as df"
   ]
  },
  {
   "cell_type": "code",
   "execution_count": 22,
   "metadata": {},
   "outputs": [],
   "source": [
    "wiki_df = pd.DataFrame(list(collection_ref.find({})))"
   ]
  },
  {
   "cell_type": "code",
   "execution_count": 23,
   "metadata": {
    "scrolled": true
   },
   "outputs": [
    {
     "data": {
      "text/html": [
       "<div>\n",
       "<table border=\"1\" class=\"dataframe\">\n",
       "  <thead>\n",
       "    <tr style=\"text-align: right;\">\n",
       "      <th></th>\n",
       "      <th>_id</th>\n",
       "      <th>immediate_parent_category</th>\n",
       "      <th>page_title</th>\n",
       "      <th>pageid</th>\n",
       "      <th>parent_category</th>\n",
       "      <th>text</th>\n",
       "    </tr>\n",
       "  </thead>\n",
       "  <tbody>\n",
       "    <tr>\n",
       "      <th>0</th>\n",
       "      <td>5a1378da539d170ad9fd28c4</td>\n",
       "      <td>Category:Machine learning</td>\n",
       "      <td>Data exploration</td>\n",
       "      <td>43385931</td>\n",
       "      <td>Category:Machine learning</td>\n",
       "      <td>&lt;p&gt;&lt;b&gt;Data exploration&lt;/b&gt; is an approach simi...</td>\n",
       "    </tr>\n",
       "    <tr>\n",
       "      <th>1</th>\n",
       "      <td>5a1378da539d170ad9fd28c5</td>\n",
       "      <td>Category:Machine learning</td>\n",
       "      <td>List of datasets for machine learning research</td>\n",
       "      <td>49082762</td>\n",
       "      <td>Category:Machine learning</td>\n",
       "      <td>&lt;p&gt;These datasets are used for machine-learnin...</td>\n",
       "    </tr>\n",
       "    <tr>\n",
       "      <th>2</th>\n",
       "      <td>5a1378da539d170ad9fd28c6</td>\n",
       "      <td>Category:Machine learning</td>\n",
       "      <td>Machine learning</td>\n",
       "      <td>233488</td>\n",
       "      <td>Category:Machine learning</td>\n",
       "      <td>&lt;p&gt;&lt;b&gt;Machine learning&lt;/b&gt; is a field of compu...</td>\n",
       "    </tr>\n",
       "    <tr>\n",
       "      <th>3</th>\n",
       "      <td>5a1378da539d170ad9fd28c7</td>\n",
       "      <td>Category:Machine learning</td>\n",
       "      <td>Outline of machine learning</td>\n",
       "      <td>53587467</td>\n",
       "      <td>Category:Machine learning</td>\n",
       "      <td>&lt;p&gt;The following outline is provided as an ove...</td>\n",
       "    </tr>\n",
       "    <tr>\n",
       "      <th>4</th>\n",
       "      <td>5a1378da539d170ad9fd28c8</td>\n",
       "      <td>Category:Machine learning</td>\n",
       "      <td>Accuracy paradox</td>\n",
       "      <td>3771060</td>\n",
       "      <td>Category:Machine learning</td>\n",
       "      <td>&lt;p&gt;The &lt;b&gt;accuracy paradox&lt;/b&gt; for predictive ...</td>\n",
       "    </tr>\n",
       "  </tbody>\n",
       "</table>\n",
       "</div>"
      ],
      "text/plain": [
       "                        _id  immediate_parent_category  \\\n",
       "0  5a1378da539d170ad9fd28c4  Category:Machine learning   \n",
       "1  5a1378da539d170ad9fd28c5  Category:Machine learning   \n",
       "2  5a1378da539d170ad9fd28c6  Category:Machine learning   \n",
       "3  5a1378da539d170ad9fd28c7  Category:Machine learning   \n",
       "4  5a1378da539d170ad9fd28c8  Category:Machine learning   \n",
       "\n",
       "                                       page_title    pageid  \\\n",
       "0                                Data exploration  43385931   \n",
       "1  List of datasets for machine learning research  49082762   \n",
       "2                                Machine learning    233488   \n",
       "3                     Outline of machine learning  53587467   \n",
       "4                                Accuracy paradox   3771060   \n",
       "\n",
       "             parent_category  \\\n",
       "0  Category:Machine learning   \n",
       "1  Category:Machine learning   \n",
       "2  Category:Machine learning   \n",
       "3  Category:Machine learning   \n",
       "4  Category:Machine learning   \n",
       "\n",
       "                                                text  \n",
       "0  <p><b>Data exploration</b> is an approach simi...  \n",
       "1  <p>These datasets are used for machine-learnin...  \n",
       "2  <p><b>Machine learning</b> is a field of compu...  \n",
       "3  <p>The following outline is provided as an ove...  \n",
       "4  <p>The <b>accuracy paradox</b> for predictive ...  "
      ]
     },
     "execution_count": 23,
     "metadata": {},
     "output_type": "execute_result"
    }
   ],
   "source": [
    "wiki_df.head()"
   ]
  },
  {
   "cell_type": "code",
   "execution_count": 29,
   "metadata": {},
   "outputs": [],
   "source": [
    "nltk_stop = stopwords.words('english')"
   ]
  },
  {
   "cell_type": "markdown",
   "metadata": {},
   "source": [
    "### Clean text column of `wiki_df`"
   ]
  },
  {
   "cell_type": "code",
   "execution_count": 35,
   "metadata": {},
   "outputs": [],
   "source": [
    "def cleaner(text):\n",
    "## Credit: Michael Frantz\n",
    "    nlp = spacy.load('en')\n",
    "    \n",
    "    text = BeautifulSoup(text, \"html5lib\").get_text()\n",
    "    text = re.sub('&#39;',' ',text).lower()\n",
    "    text = re.sub('<br />',' ',text)\n",
    "    text = re.sub('<.*>.*</.*>',' ', text)\n",
    "    text = re.sub('[\\d]',' ',text)\n",
    "    text = re.sub('[0-9]',' ',text)\n",
    "    text = re.sub('[^a-z ]',' ',text)\n",
    "    text = ' '.join(i.lemma_ for i in nlp(text)\n",
    "                    if i.orth_ not in nltk_stop)\n",
    "    text = re.sub('\\\\ufeff', ' ', text)\n",
    "    text = re.sub('[^a-z ]',' ',text)\n",
    "    text = ' '.join(text.split())\n",
    "    \n",
    "    return text"
   ]
  },
  {
   "cell_type": "code",
   "execution_count": 37,
   "metadata": {},
   "outputs": [],
   "source": [
    "wiki_df['text_clean'] = wiki_df['text'].map(lambda x:cleaner(x))"
   ]
  },
  {
   "cell_type": "code",
   "execution_count": 39,
   "metadata": {},
   "outputs": [
    {
     "data": {
      "text/html": [
       "<div>\n",
       "<table border=\"1\" class=\"dataframe\">\n",
       "  <thead>\n",
       "    <tr style=\"text-align: right;\">\n",
       "      <th></th>\n",
       "      <th>_id</th>\n",
       "      <th>immediate_parent_category</th>\n",
       "      <th>page_title</th>\n",
       "      <th>pageid</th>\n",
       "      <th>parent_category</th>\n",
       "      <th>text</th>\n",
       "      <th>text_clean</th>\n",
       "    </tr>\n",
       "  </thead>\n",
       "  <tbody>\n",
       "    <tr>\n",
       "      <th>0</th>\n",
       "      <td>5a1378da539d170ad9fd28c4</td>\n",
       "      <td>Category:Machine learning</td>\n",
       "      <td>Data exploration</td>\n",
       "      <td>43385931</td>\n",
       "      <td>Category:Machine learning</td>\n",
       "      <td>&lt;p&gt;&lt;b&gt;Data exploration&lt;/b&gt; is an approach simi...</td>\n",
       "      <td>datum exploration approach similar initial dat...</td>\n",
       "    </tr>\n",
       "    <tr>\n",
       "      <th>1</th>\n",
       "      <td>5a1378da539d170ad9fd28c5</td>\n",
       "      <td>Category:Machine learning</td>\n",
       "      <td>List of datasets for machine learning research</td>\n",
       "      <td>49082762</td>\n",
       "      <td>Category:Machine learning</td>\n",
       "      <td>&lt;p&gt;These datasets are used for machine-learnin...</td>\n",
       "      <td>dataset use machine learn research cite peer r...</td>\n",
       "    </tr>\n",
       "    <tr>\n",
       "      <th>2</th>\n",
       "      <td>5a1378da539d170ad9fd28c6</td>\n",
       "      <td>Category:Machine learning</td>\n",
       "      <td>Machine learning</td>\n",
       "      <td>233488</td>\n",
       "      <td>Category:Machine learning</td>\n",
       "      <td>&lt;p&gt;&lt;b&gt;Machine learning&lt;/b&gt; is a field of compu...</td>\n",
       "      <td>machine learn field computer science give comp...</td>\n",
       "    </tr>\n",
       "    <tr>\n",
       "      <th>3</th>\n",
       "      <td>5a1378da539d170ad9fd28c7</td>\n",
       "      <td>Category:Machine learning</td>\n",
       "      <td>Outline of machine learning</td>\n",
       "      <td>53587467</td>\n",
       "      <td>Category:Machine learning</td>\n",
       "      <td>&lt;p&gt;The following outline is provided as an ove...</td>\n",
       "      <td>follow outline provide overview topical guide ...</td>\n",
       "    </tr>\n",
       "    <tr>\n",
       "      <th>4</th>\n",
       "      <td>5a1378da539d170ad9fd28c8</td>\n",
       "      <td>Category:Machine learning</td>\n",
       "      <td>Accuracy paradox</td>\n",
       "      <td>3771060</td>\n",
       "      <td>Category:Machine learning</td>\n",
       "      <td>&lt;p&gt;The &lt;b&gt;accuracy paradox&lt;/b&gt; for predictive ...</td>\n",
       "      <td>accuracy paradox predictive analytic state pre...</td>\n",
       "    </tr>\n",
       "  </tbody>\n",
       "</table>\n",
       "</div>"
      ],
      "text/plain": [
       "                        _id  immediate_parent_category  \\\n",
       "0  5a1378da539d170ad9fd28c4  Category:Machine learning   \n",
       "1  5a1378da539d170ad9fd28c5  Category:Machine learning   \n",
       "2  5a1378da539d170ad9fd28c6  Category:Machine learning   \n",
       "3  5a1378da539d170ad9fd28c7  Category:Machine learning   \n",
       "4  5a1378da539d170ad9fd28c8  Category:Machine learning   \n",
       "\n",
       "                                       page_title    pageid  \\\n",
       "0                                Data exploration  43385931   \n",
       "1  List of datasets for machine learning research  49082762   \n",
       "2                                Machine learning    233488   \n",
       "3                     Outline of machine learning  53587467   \n",
       "4                                Accuracy paradox   3771060   \n",
       "\n",
       "             parent_category  \\\n",
       "0  Category:Machine learning   \n",
       "1  Category:Machine learning   \n",
       "2  Category:Machine learning   \n",
       "3  Category:Machine learning   \n",
       "4  Category:Machine learning   \n",
       "\n",
       "                                                text  \\\n",
       "0  <p><b>Data exploration</b> is an approach simi...   \n",
       "1  <p>These datasets are used for machine-learnin...   \n",
       "2  <p><b>Machine learning</b> is a field of compu...   \n",
       "3  <p>The following outline is provided as an ove...   \n",
       "4  <p>The <b>accuracy paradox</b> for predictive ...   \n",
       "\n",
       "                                          text_clean  \n",
       "0  datum exploration approach similar initial dat...  \n",
       "1  dataset use machine learn research cite peer r...  \n",
       "2  machine learn field computer science give comp...  \n",
       "3  follow outline provide overview topical guide ...  \n",
       "4  accuracy paradox predictive analytic state pre...  "
      ]
     },
     "execution_count": 39,
     "metadata": {},
     "output_type": "execute_result"
    }
   ],
   "source": [
    "wiki_df.head()"
   ]
  },
  {
   "cell_type": "markdown",
   "metadata": {},
   "source": [
    "### Pickle cleaned `wiki_df`"
   ]
  },
  {
   "cell_type": "code",
   "execution_count": 44,
   "metadata": {
    "scrolled": true
   },
   "outputs": [
    {
     "name": "stdout",
     "output_type": "stream",
     "text": [
      "/home/jovyan/Documents/GA_DSI/Projects/project_4\n"
     ]
    }
   ],
   "source": [
    "cd .."
   ]
  },
  {
   "cell_type": "code",
   "execution_count": 45,
   "metadata": {},
   "outputs": [],
   "source": [
    "wiki_df.to_pickle('data/wiki_df.p')"
   ]
  },
  {
   "cell_type": "code",
   "execution_count": null,
   "metadata": {},
   "outputs": [],
   "source": []
  }
 ],
 "metadata": {
  "kernelspec": {
   "display_name": "Python 3",
   "language": "python",
   "name": "python3"
  },
  "language_info": {
   "codemirror_mode": {
    "name": "ipython",
    "version": 3
   },
   "file_extension": ".py",
   "mimetype": "text/x-python",
   "name": "python",
   "nbconvert_exporter": "python",
   "pygments_lexer": "ipython3",
   "version": "3.6.2"
  }
 },
 "nbformat": 4,
 "nbformat_minor": 2
}
