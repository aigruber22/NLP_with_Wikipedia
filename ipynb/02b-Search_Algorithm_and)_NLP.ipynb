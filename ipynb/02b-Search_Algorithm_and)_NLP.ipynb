{
 "cells": [
  {
   "cell_type": "markdown",
   "metadata": {},
   "source": [
    "### Summary of Project 4\n",
    "\n",
    "Project 4 instructions is as such:\n",
    "The objective of this assignment is to engineer a novel wikipedia search engine using what you've learned about data collection, infrastructure, and natural language processing.\n",
    "\n",
    "The task has two **required sections:**\n",
    "- Data collection\n",
    "- Search algorithm development"
   ]
  },
  {
   "cell_type": "markdown",
   "metadata": {},
   "source": [
    "### Summary of Notebook:\n",
    "\n",
    "As part of the General Assembly Data Science Immersive Course, the following is notebook 3 of 3 for Project 4.\n",
    "\n",
    "Steps contained in this notebook specifically:\n",
    "1. Read in and apply `TfidfVectorizer` to dataset\n",
    "2. Create `search_terms` and apply `TfidfVectorizer` to those terms\n",
    "3. Use `cosine_similarity` to find top 5 articles most related to a single term from `search_terms`"
   ]
  },
  {
   "cell_type": "markdown",
   "metadata": {},
   "source": [
    "----------------------"
   ]
  },
  {
   "cell_type": "markdown",
   "metadata": {},
   "source": [
    "### Initialization"
   ]
  },
  {
   "cell_type": "code",
   "execution_count": 1,
   "metadata": {},
   "outputs": [
    {
     "name": "stdout",
     "output_type": "stream",
     "text": [
      "[nltk_data] Downloading package stopwords to /home/jovyan/nltk_data...\n",
      "[nltk_data]   Package stopwords is already up-to-date!\n"
     ]
    }
   ],
   "source": [
    "% run __init__.py\n",
    "% run nlp.py\n",
    "% matplotlib inline"
   ]
  },
  {
   "cell_type": "markdown",
   "metadata": {},
   "source": [
    "### Read in data"
   ]
  },
  {
   "cell_type": "code",
   "execution_count": 2,
   "metadata": {},
   "outputs": [
    {
     "name": "stdout",
     "output_type": "stream",
     "text": [
      "/home/jovyan/Documents/GA_DSI/Projects/project_4\n"
     ]
    }
   ],
   "source": [
    "cd .."
   ]
  },
  {
   "cell_type": "code",
   "execution_count": 3,
   "metadata": {},
   "outputs": [],
   "source": [
    "wiki_df = pd.read_pickle('data/wiki_df.p')"
   ]
  },
  {
   "cell_type": "code",
   "execution_count": 4,
   "metadata": {
    "scrolled": true
   },
   "outputs": [
    {
     "data": {
      "text/html": [
       "<div>\n",
       "<table border=\"1\" class=\"dataframe\">\n",
       "  <thead>\n",
       "    <tr style=\"text-align: right;\">\n",
       "      <th></th>\n",
       "      <th>_id</th>\n",
       "      <th>immediate_parent_category</th>\n",
       "      <th>page_title</th>\n",
       "      <th>pageid</th>\n",
       "      <th>parent_category</th>\n",
       "      <th>text</th>\n",
       "      <th>text_clean</th>\n",
       "    </tr>\n",
       "  </thead>\n",
       "  <tbody>\n",
       "    <tr>\n",
       "      <th>0</th>\n",
       "      <td>5a1378da539d170ad9fd28c4</td>\n",
       "      <td>Category:Machine learning</td>\n",
       "      <td>Data exploration</td>\n",
       "      <td>43385931</td>\n",
       "      <td>Category:Machine learning</td>\n",
       "      <td>&lt;p&gt;&lt;b&gt;Data exploration&lt;/b&gt; is an approach simi...</td>\n",
       "      <td>datum exploration approach similar initial dat...</td>\n",
       "    </tr>\n",
       "    <tr>\n",
       "      <th>1</th>\n",
       "      <td>5a1378da539d170ad9fd28c5</td>\n",
       "      <td>Category:Machine learning</td>\n",
       "      <td>List of datasets for machine learning research</td>\n",
       "      <td>49082762</td>\n",
       "      <td>Category:Machine learning</td>\n",
       "      <td>&lt;p&gt;These datasets are used for machine-learnin...</td>\n",
       "      <td>dataset use machine learn research cite peer r...</td>\n",
       "    </tr>\n",
       "  </tbody>\n",
       "</table>\n",
       "</div>"
      ],
      "text/plain": [
       "                        _id  immediate_parent_category  \\\n",
       "0  5a1378da539d170ad9fd28c4  Category:Machine learning   \n",
       "1  5a1378da539d170ad9fd28c5  Category:Machine learning   \n",
       "\n",
       "                                       page_title    pageid  \\\n",
       "0                                Data exploration  43385931   \n",
       "1  List of datasets for machine learning research  49082762   \n",
       "\n",
       "             parent_category  \\\n",
       "0  Category:Machine learning   \n",
       "1  Category:Machine learning   \n",
       "\n",
       "                                                text  \\\n",
       "0  <p><b>Data exploration</b> is an approach simi...   \n",
       "1  <p>These datasets are used for machine-learnin...   \n",
       "\n",
       "                                          text_clean  \n",
       "0  datum exploration approach similar initial dat...  \n",
       "1  dataset use machine learn research cite peer r...  "
      ]
     },
     "execution_count": 4,
     "metadata": {},
     "output_type": "execute_result"
    }
   ],
   "source": [
    "wiki_df.head(2)"
   ]
  },
  {
   "cell_type": "markdown",
   "metadata": {},
   "source": [
    "### Tfidf Vectorizing and Term Matrix DF Construction"
   ]
  },
  {
   "cell_type": "code",
   "execution_count": 5,
   "metadata": {},
   "outputs": [],
   "source": [
    "from sklearn.preprocessing import LabelEncoder\n",
    "le = LabelEncoder()"
   ]
  },
  {
   "cell_type": "code",
   "execution_count": 6,
   "metadata": {},
   "outputs": [],
   "source": [
    "wiki_df['class_label'] = le.fit_transform(wiki_df['parent_category'])"
   ]
  },
  {
   "cell_type": "code",
   "execution_count": 7,
   "metadata": {},
   "outputs": [
    {
     "data": {
      "text/plain": [
       "array([1, 0])"
      ]
     },
     "execution_count": 7,
     "metadata": {},
     "output_type": "execute_result"
    }
   ],
   "source": [
    "wiki_df['class_label'].unique()"
   ]
  },
  {
   "cell_type": "code",
   "execution_count": 8,
   "metadata": {
    "scrolled": true
   },
   "outputs": [
    {
     "data": {
      "text/plain": [
       "(4099, 8)"
      ]
     },
     "execution_count": 8,
     "metadata": {},
     "output_type": "execute_result"
    }
   ],
   "source": [
    "wiki_df.shape"
   ]
  },
  {
   "cell_type": "code",
   "execution_count": 9,
   "metadata": {},
   "outputs": [],
   "source": [
    "from sklearn.feature_extraction.text import TfidfVectorizer\n",
    "tfidf = TfidfVectorizer(ngram_range=(1,1), min_df = 1, stop_words = 'english')"
   ]
  },
  {
   "cell_type": "code",
   "execution_count": 10,
   "metadata": {},
   "outputs": [],
   "source": [
    "term_matrix = tfidf.fit_transform(wiki_df['text_clean'])"
   ]
  },
  {
   "cell_type": "code",
   "execution_count": 11,
   "metadata": {},
   "outputs": [],
   "source": [
    "term_matrix_df = pd.DataFrame(term_matrix.toarray(), \n",
    "                             index=wiki_df.text_clean,\n",
    "                             columns=tfidf.get_feature_names())"
   ]
  },
  {
   "cell_type": "code",
   "execution_count": 12,
   "metadata": {},
   "outputs": [
    {
     "data": {
      "text/plain": [
       "(4099, 51439)"
      ]
     },
     "execution_count": 12,
     "metadata": {},
     "output_type": "execute_result"
    }
   ],
   "source": [
    "term_matrix_df.shape"
   ]
  },
  {
   "cell_type": "code",
   "execution_count": 13,
   "metadata": {
    "scrolled": true
   },
   "outputs": [
    {
     "data": {
      "text/html": [
       "<div>\n",
       "<table border=\"1\" class=\"dataframe\">\n",
       "  <thead>\n",
       "    <tr style=\"text-align: right;\">\n",
       "      <th></th>\n",
       "      <th>aa</th>\n",
       "      <th>aaa</th>\n",
       "      <th>aaaa</th>\n",
       "      <th>aaaaj</th>\n",
       "      <th>aaabc</th>\n",
       "      <th>aaabcaaabcaaabcaaabc</th>\n",
       "      <th>aaai</th>\n",
       "      <th>aaajxb</th>\n",
       "      <th>aaas</th>\n",
       "      <th>aab</th>\n",
       "      <th>...</th>\n",
       "      <th>zylab</th>\n",
       "      <th>zynga</th>\n",
       "      <th>zynx</th>\n",
       "      <th>zynxambulatory</th>\n",
       "      <th>zynxcare</th>\n",
       "      <th>zynxevidence</th>\n",
       "      <th>zynxorder</th>\n",
       "      <th>zyrion</th>\n",
       "      <th>zz</th>\n",
       "      <th>zzap</th>\n",
       "    </tr>\n",
       "    <tr>\n",
       "      <th>text_clean</th>\n",
       "      <th></th>\n",
       "      <th></th>\n",
       "      <th></th>\n",
       "      <th></th>\n",
       "      <th></th>\n",
       "      <th></th>\n",
       "      <th></th>\n",
       "      <th></th>\n",
       "      <th></th>\n",
       "      <th></th>\n",
       "      <th></th>\n",
       "      <th></th>\n",
       "      <th></th>\n",
       "      <th></th>\n",
       "      <th></th>\n",
       "      <th></th>\n",
       "      <th></th>\n",
       "      <th></th>\n",
       "      <th></th>\n",
       "      <th></th>\n",
       "      <th></th>\n",
       "    </tr>\n",
       "  </thead>\n",
       "  <tbody>\n",
       "    <tr>\n",
       "      <th>datum exploration approach similar initial datum analysis whereby datum analyst use visual exploration understand dataset characteristic datum rather traditional datum management system characteristic include size amount datum completeness datum correctness datum possible relationship amongst datum element file table datum datum exploration typically conduct use combination automate manual activity automate activity include datum profile datum visualization tabular report give analyst initial view datum understand key characteristic often follow manual drill filter datum identify anomaly pattern identify automate action datum exploration conjurer require manual script query datum e g use language sql r use excel similar tool view raw datum activity aim create clear mental model understand datum mind analyst define basic metadata statistic structure relationship datum set use analysis initial understand datum datum prune refine remove unusable part datum correct poorly format element define relevant relationship across dataset process conjurer know determine datum quality stage datum consider ready deep analysis hand analyst user specific need datum datum exploration conjurer refer adhoc query visualization datum identify potential relationship insight may hide datum scenario hypothesis may create datum explore identify whether hypothesis correct traditionally key area focus statistician john tukey key evangelist field today datum exploration widespread focus datum analyst datum scientist latter relatively new role within enterprise large organization interactive datum exploration area datum exploration become area interest field machine learn relatively new field still evolve basic level machine learn algorithm feed datum set use identify whether hypothesis true base dataset common machine learn algorithm focus identify specific pattern datum common pattern include regression classification cluster many possible pattern algorithm apply datum via machine learn employ machine learn possible find pattern relationship datum would difficult impossible find via manual inspection trial error traditional exploration technique software trifacta datum preparation analysis platform paxata self service datum preparation software alteryx datum blend advance datum analytic software ibm infosphere analyzer datum profile tool microsoft power bi interactive visualization datum analysis tool openrefine standalone open source desktop application datum clean datum transformation tableau software interactive datum visualization software see conjurer exploratory datum analysis machine learn datum profile datum visualization reference</th>\n",
       "      <td>0.0</td>\n",
       "      <td>0.0</td>\n",
       "      <td>0.0</td>\n",
       "      <td>0.0</td>\n",
       "      <td>0.0</td>\n",
       "      <td>0.0</td>\n",
       "      <td>0.0</td>\n",
       "      <td>0.0</td>\n",
       "      <td>0.0</td>\n",
       "      <td>0.0</td>\n",
       "      <td>...</td>\n",
       "      <td>0.0</td>\n",
       "      <td>0.0</td>\n",
       "      <td>0.0</td>\n",
       "      <td>0.0</td>\n",
       "      <td>0.0</td>\n",
       "      <td>0.0</td>\n",
       "      <td>0.0</td>\n",
       "      <td>0.0</td>\n",
       "      <td>0.0</td>\n",
       "      <td>0.0</td>\n",
       "    </tr>\n",
       "    <tr>\n",
       "      <th>dataset use machine learn research cite peer review academic journal publication dataset integral part field machine learn major advance field result advance learn algorithm deep learn computer hardware little intuitively availability high quality train dataset high quality label train dataset supervise semi supervise machine learn algorithm usually difficult expensive produce large amount time need label datum although need label high quality dataset unsupervised learn conjurer difficult costly produce list aggregate high quality dataset show value machine learn research community multiple different datum repository provide great coverage topic otherwise available image datum dataset consist primarily image video task object detection facial recognition multi label classification facial recognition computer vision face image use extensively develop facial recognition system face detection many project use image face action recognition object detection recognition handwriting character recognition aerial image image text datum dataset consist primarily text task natural language process sentiment analysis translation cluster analysis review news article message twitter tweet text sound datum dataset sound sound feature music sound signal datum dataset contain electric signal information require sort signal process analysis electrical motion track signal physical datum dataset physical system high energy physic system astronomy earth science physical biological datum dataset biological system human animal plant microbe drug discovery anomaly datum multivariate datum dataset consist row observation column attribute characterize observation typically use regression analysis classification type algorithm conjurer use section include dataset fit category financial weather census transit internet game multivariate see conjurer comparison deep learn software reference</th>\n",
       "      <td>0.0</td>\n",
       "      <td>0.0</td>\n",
       "      <td>0.0</td>\n",
       "      <td>0.0</td>\n",
       "      <td>0.0</td>\n",
       "      <td>0.0</td>\n",
       "      <td>0.0</td>\n",
       "      <td>0.0</td>\n",
       "      <td>0.0</td>\n",
       "      <td>0.0</td>\n",
       "      <td>...</td>\n",
       "      <td>0.0</td>\n",
       "      <td>0.0</td>\n",
       "      <td>0.0</td>\n",
       "      <td>0.0</td>\n",
       "      <td>0.0</td>\n",
       "      <td>0.0</td>\n",
       "      <td>0.0</td>\n",
       "      <td>0.0</td>\n",
       "      <td>0.0</td>\n",
       "      <td>0.0</td>\n",
       "    </tr>\n",
       "    <tr>\n",
       "      <th>machine learn field computer science give computer ability learn without explicitly programme arthur samuel american pioneer field computer gaming artificial intelligence coin term machine learn ibm evolve study pattern recognition computational learn theory artificial intelligence machine learn explore study construction algorithm learn make prediction datum algorithm overcome follow strictly static program instruction make datum drive prediction decision build model sample input machine learn employ range compute task design programme explicit algorithm good performance difficult infeasible example application include email filter detection network intruder malicious insider work towards datum breach optical character recognition ocr learn rank computer vision machine learn closely relate often overlap computational statistic conjurer focus prediction make use computer strong tie mathematical optimization deliver method theory application domain field machine learn sometimes conflate datum mine latter subfield focus exploratory datum analysis know unsupervised learn machine learn conjurer unsupervised use learn establish baseline behavioral profile various entity use find meaningful anomaly within field datum analytic machine learn method use devise complex model algorithm lend prediction commercial use know predictive analytic analytic model allow researcher datum scientist engineer analyst produce reliable repeatable decision result uncover hide insight learn historical relationship trend datum accord gartner hype cycle machine learn peak inflate expectation effective machine learn difficult find pattern hard often enough train datum available result machine learn program often fail deliver overview tom mitchell provide widely quote formal definition algorithm study machine learn field computer program say learn experience e respect class task performance measure p performance task measure p improve experience e definition task machine learn concern offer fundamentally operational definition rather define field cognitive term follow alan turing proposal paper compute machinery intelligence question machine think replace question machine think entity turing proposal various characteristic can possess think machine various implication construct one expose type problem task machine learn task typically classify two broad category depend whether learn signal feedback available learn system supervise learn computer present example input desire output give teacher goal learn general rule map input output special case input signal partially available restrict special feedback semi supervise learn computer give incomplete train signal train set often many target output miss active learn computer obtain train label limit set instance base budget conjurer optimize choice object acquire label use interactively present user label reinforcement learn train datum form reward punishment give feedback program action dynamic environment drive vehicle play game opponent unsupervised learn label give learn algorithm leave find structure input unsupervised learn goal discover hide pattern datum mean towards end feature learn among category machine learn problem learn learn learn inductive bias base previous experience developmental learn elaborate robot learn generate sequence conjurer call curriculum learn situation cumulatively acquire repertoire novel skill autonomous self exploration social interaction human teacher use guidance mechanism active learn maturation motor synergy imitation another categorization machine learn task arise one consider desire output machine learn system classification input divide two class learner must produce model assign unseen input one multi label classification class typically tackle supervise way spam filter example classification input email message class spam spam regression conjurer supervise problem output continuous rather discrete cluster set input divide group unlike classification group know beforehand make typically unsupervised task density estimation find distribution input space dimensionality reduction simplify input map low dimensional space topic model relate problem program give list human language document task find document cover similar topic history relationship field scientific endeavour machine learn grow quest artificial intelligence already early day have academic discipline researcher interest machine learn datum attempt approach problem various symbolic method good term neural network mostly perceptron model late find reinvention generalize linear model statistic probabilistic reason conjurer employ especially automate medical diagnosis however increase emphasis logical knowledge base approach cause rift have machine learn probabilistic system plague theoretical practical problem datum acquisition representation expert system come dominate have statistic favor work symbolic knowledge base learn continue within have lead inductive logic programme statistical line research outside field have proper pattern recognition information retrieval neural network research abandon have computer science around time line continue outside have c field connectionism researcher discipline include hopfield rumelhart hinton main success come mid reinvention backpropagation machine learn reorganize separate field start flourish field change goal achieve artificial intelligence tackle solvable problem practical nature shift focus away symbolic approach inherit have toward method model borrow statistic probability theory conjurer benefit increase availability digitize information possibility distribute via internet machine learn datum mine often employ method overlap significantly machine learn focus prediction base know property learn train datum datum mine focus discovery previously unknown property datum analysis step knowledge discovery database datum mine use many machine learn method different goal hand machine learn conjurer employ datum mine method unsupervised learn preprocess step improve learner accuracy much confusion two research community often separate conference separate journal ecml pkdd major exception come basic assumption work machine learn performance usually evaluate respect ability reproduce know knowledge knowledge discovery datum mine kdd key task discovery previously unknown knowledge evaluate respect know knowledge uninformed unsupervised method easily outperform supervise method typical kdd task supervise method use due unavailability train datum machine learn conjurer intimate tie optimization many learn problem formulate minimization loss function train set example loss function express discrepancy prediction model train actual problem instance example classification one want assign label instance model train correctly predict pre assign label set example difference two field arise goal generalization optimization algorithm minimize loss train set machine learn concern minimize loss unseen sample relation statistic machine learn statistic closely relate field accord michael jordan idea machine learn methodological principle theoretical tool long pre history statistic conjurer suggest term datum science placeholder call overall field leo breiman distinguish two statistical model paradigm datum model algorithmic model wherein algorithmic model mean little machine learn algorithm like random forest statistician adopt method machine learn lead combine field call statistical learn theory core objective learner generalize experience generalization context ability learn machine perform accurately new unseen example task experience learn datum set train example come generally unknown probability distribution consider representative space occurrence learner build general model space enable produce sufficiently accurate prediction new case computational analysis machine learn algorithm performance branch theoretical computer science know computational learn theory train set finite future uncertain learn theory usually yield guarantee performance algorithm instead probabilistic bound performance quite common bias variance decomposition one way quantify generalization error well performance context generalization complexity hypothesis match complexity function underlie datum hypothesis little complex function model underfit datum complexity model increase response train error decrease hypothesis complex model subject overfitting generalization poor addition performance bound computational learn theorist study time complexity feasibility learn computational learn theory computation consider feasible do polynomial time two kind time complexity result positive result show certain class function learn polynomial time negative result show certain class learn polynomial time approach decision tree learn decision tree learn use decision tree predictive model map observation item conclusion item target value association rule learn association rule learn method discover interest relation variable large database artificial neural network artificial neural network ann learn algorithm usually call neural network nn learn algorithm inspire structure functional aspect biological neural network computation structure term interconnect group artificial neuron process information use connectionist approach computation modern neural network non linear statistical datum model tool usually use model complex relationship input output find pattern datum capture statistical structure unknown joint probability distribution observe variable deep learn fall hardware price development gpus personal use last year contribute development concept deep learn consist multiple hide layer artificial neural network approach try model way human brain process light sound vision hear successful application deep learn computer vision speech recognition inductive logic programme inductive logic programme ilp approach rule learn use logic programme uniform representation input example background knowledge hypothesis give encode know background knowledge set example represent logical database fact ilp system derive hypothesize logic program entail positive negative example inductive programme relate field consider kind programme language represent hypothesis logic programme functional program support vector machine support vector machine svms set relate supervise learn method use classification regression give set train example mark belong one two category svm train algorithm build model predict whether new example fall one category cluster cluster analysis assignment set observation subset call cluster observation within cluster similar accord predesignated criterion criterium observation draw different cluster dissimilar different cluster technique make different assumption structure datum often define similarity metric evaluate example internal compactness similarity member cluster separation different cluster method base estimate density graph connectivity cluster method unsupervised learn common technique statistical datum analysis bayesian network bayesian network belief network direct acyclic graphical model probabilistic graphical model represent set random variable conditional independency via direct acyclic graph dag example bayesian network can represent probabilistic relationship disease symptom give symptom network use compute probability presence various disease efficient algorithm exist perform inference learn reinforcement learn reinforcement learn concern agent ought take action environment maximize notion long term reward reinforcement learn algorithm attempt find policy map state world action agent ought take state reinforcement learn differ supervise learn problem correct input output pair never present sub optimal action explicitly correct representation learn several learn algorithm mostly unsupervised learn algorithm aim discover well representation input provide train classical example include principal component analysis cluster analysis representation learn algorithm often attempt preserve information input transform way make useful often pre process step perform classification prediction allow reconstruction input come unknown datum generate distribution necessarily faithful configuration implausible distribution manifold learn algorithm attempt constraint learn representation low dimensional sparse code algorithm attempt constraint learn representation sparse many zero multilinear subspace learn algorithm aim learn low dimensional representation directly tensor representation multidimensional datum without reshape high dimensional vector deep learn algorithm discover multiple level representation hierarchy feature high level abstract feature define term generate low level feature argue intelligent machine one learn representation disentangle underlie factor variation explain observe datum similarity metric learn problem learn machine give pair example consider similar pair little similar object need learn similarity function distance metric function predict new object similar sometimes use recommendation system sparse dictionary learn method datum represent linear combination basis function coefficient assume sparse let x dimensional datum n matrix column represent basis function r coefficient represent x use mathematically sparse dictionary learn mean solve x r displaystyle x approx dr r sparse generally speak n assume large allow freedom sparse representation learn dictionary along sparse representation strongly np hard conjurer difficult solve approximately popular heuristic method sparse dictionary learn k svd sparse dictionary learn apply several context classification problem determine class previously unseen datum belong suppose dictionary class already build new datum associate class well sparsely represent correspond dictionary sparse dictionary learn conjurer apply image de noise key idea clean image patch sparsely represent image dictionary noise genetic algorithm genetic algorithm ga search heuristic mimic process natural selection use method mutation crossover generate new genotype hope find good solution give problem machine learn genetic algorithm find use conversely machine learn technique use improve performance genetic evolutionary algorithm rule base machine learn rule base machine learn general term machine learn method identify learn evolve rule store manipulate apply knowledge define characteristic rule base machine learner identification utilization set relational rule collectively represent knowledge capture system contrast machine learner commonly identify singular model universally apply instance order make prediction rule base machine learn approach include learn classifi system association rule learn artificial immune system learn classifi system learn classifi system lcs family rule base machine learn algorithm combine discovery component e g typically genetic algorithm learn component perform either supervise learn reinforcement learn unsupervised learn seek identify set context dependent rule collectively store apply knowledge piecewise manner order make prediction application application machine learn include online movie company netflix hold netflix prize competition find program well predict user preference improve accuracy exist cinematch movie recommendation algorithm little joint team make researcher lab research collaboration team big chaos pragmatic theory build ensemble model win grand prize million shortly prize award netflix realize viewer rating well indicator view pattern everything recommendation change recommendation engine accordingly wall street journal write firm rebellion research use machine learn predict financial crisis co founder sun microsystem vinod khosla predict medical doctor job would lose next two decade automate machine learn medical diagnostic software report machine learn algorithm apply art history study fine art painting may reveal previously unrecognized influence artist model assessment classification machine learn model validate accuracy estimation technique like holdout method split datum train test set conventionally train set test set designation evaluate performance train model test set comparison n fold cross validation method randomly split datum k subset k instance datum use train model kth instance use test predictive ability train model addition holdout cross validation method bootstrap sample n instance replacement dataset use assess model accuracy addition overall accuracy investigator frequently report sensitivity specificity mean true positive rate tpr true negative rate tnr respectively similarly investigator sometimes report false positive rate fpr good false negative rate fnr however rate ratio fail reveal numerator denominator total operate characteristic toc effective method express model diagnostic ability toc show numerator denominator previously mention rate thus toc provide information commonly use receiver operate characteristic roc roc associate area curve auc ethic machine learn pose host ethical question system train dataset collect bias may exhibit bias upon use algorithmic bias thus digitize cultural prejudice example use job hire datum firm racist hire policy may lead machine learn system duplicate bias score job applicant similarity previous successful applicant responsible collection datum documentation algorithmic rule use system thus critical part machine learn language contain bias machine train language corpus necessarily conjurer learn bias software software suite contain variety machine learn algorithm include follow free open source software proprietary software free open source edition proprietary software journal journal machine learn research machine learn neural computation conference conference neural information process system international conference machine learn international conference learn representation see conjurer reference read external link international machine learn society popular online course andrew ng coursera use gnu octave course free version stanford university actual course teach ng whose lecture conjurer available free mloss academic database open source machine learn software</th>\n",
       "      <td>0.0</td>\n",
       "      <td>0.0</td>\n",
       "      <td>0.0</td>\n",
       "      <td>0.0</td>\n",
       "      <td>0.0</td>\n",
       "      <td>0.0</td>\n",
       "      <td>0.0</td>\n",
       "      <td>0.0</td>\n",
       "      <td>0.0</td>\n",
       "      <td>0.0</td>\n",
       "      <td>...</td>\n",
       "      <td>0.0</td>\n",
       "      <td>0.0</td>\n",
       "      <td>0.0</td>\n",
       "      <td>0.0</td>\n",
       "      <td>0.0</td>\n",
       "      <td>0.0</td>\n",
       "      <td>0.0</td>\n",
       "      <td>0.0</td>\n",
       "      <td>0.0</td>\n",
       "      <td>0.0</td>\n",
       "    </tr>\n",
       "    <tr>\n",
       "      <th>follow outline provide overview topical guide machine learn machine learn subfield computer science particularly soft compute evolve study pattern recognition computational learn theory artificial intelligence arthur samuel define machine learn field study give computer ability learn without explicitly programme machine learn explore study construction algorithm learn make prediction datum algorithm operate build model example train set input observation order make datum drive prediction decision express output rather follow strictly static program instruction type thing machine learn academic discipline branch science apply science subfield computer science branch artificial intelligence subfield soft compute branch machine learn subfield machine learn subfield machine learn computational learn theory study design analysis machine learn algorithm grammar induction meta learn cross disciplinary field involve machine learn cross disciplinary field involve machine learn adversarial machine learn predictive analytic quantum machine learn robot learn developmental robotic application machine learn application machine learn biomedical informatic computer vision customer relationship management datum mine email filter invert pendulum balance equilibrium system natural language process nlp automatic summarization automatic taxonomy construction dialog system grammar checker language recognition handwriting recognition optical character recognition speech recognition machine translation question answer speech synthesis text mine term frequency inverse document frequency tf idf text simplification pattern recognition facial recognition system handwriting recognition image recognition optical character recognition speech recognition recommendation system collaborative filter content base filter hybrid recommender system collaborative content base filter search engine search engine optimization machine learn hardware machine learn hardware graphic process unit tensor process unit vision process unit machine learn tool machine learn tool list comparison deep learn software comparison deep learn software resource machine learn framework machine learn framework proprietary machine learn framework proprietary machine learn framework amazon machine learn microsoft azure machine learn studio distbelief replace tensorflow microsoft cognitive toolkit open source machine learn framework open source machine learn framework apache singa caffe h mlpack tensorflow torch accord net machine learn library machine learn library list deeplearn j theano scikit learn machine learn algorithm machine learn algorithm type machine learn algorithm almeida pineda recurrent backpropagation alopex almeida pineda recurrent backpropagation backpropagation bootstrap aggregate cn algorithm construct skill tree dehaene changeux model diffusion map dominance base rough set approach dynamic time warp error drive learn evolutionary multimodal optimization expectation maximization algorithm fastica forward backward algorithm generec genetic algorithm rule set production grow self organize map hexq hyper basis function network idistance k near neighbor algorithm kernel method vector output kernel principal component analysis leabra linde buzo gray algorithm local outlier factor logic learn machine logitboost manifold alignment minimum redundancy feature selection mixture expert multiple kernel learn non negative matrix factorization online machine learn bag error prefrontal cortex basal ganglion work memory pvlv q learn quadratic unconstrained binary optimization query level feature quickprop radial basis function network randomize weight majority algorithm reinforcement learn repeat incremental prune produce error reduction ripper rprop rule base machine learn skill chain sparse pca state action reward state action stochastic gradient descent structure knn distribute stochastic neighbor embed temporal difference learn wake sleep algorithm weight majority algorithm machine learn machine learn method machine learn method list instance base algorithm k near neighbor algorithm knn learn vector quantization lvq self organize map som regression analysis logistic regression ordinary little square regression olsr linear regression stepwise regression multivariate adaptive regression spline mar regularization algorithm ridge regression little absolute shrinkage selection operator lasso elastic net little angle regression lar classifier probabilistic classifi naive baye classifier binary classifi linear classifi hierarchical classifier dimensionality reduction dimensionality reduction canonical correlation analysis cca factor analysis feature extraction feature selection independent component analysis ica linear discriminant analysis lda multidimensional scale md non negative matrix factorization nmf partial little square regression plsr principal component analysis pca principal component regression pcr projection pursuit sammon map distribute stochastic neighbor embed sne ensemble learn ensemble learn adaboost boost bootstrap aggregate bag ensemble average process create multiple model combine produce desire output oppose create one model frequently ensemble model perform well individual model various error model average gradient boost decision tree gbrt gradient boost machine gbm random forest stack generalization blend meta learn meta learn inductive bias metadata reinforcement learn reinforcement learn q learn state action reward state action sarsa temporal difference learn td learn automaton supervise learn supervise learn aode artificial neural network association rule learn algorithm apriori algorithm eclat algorithm case base reason gaussian process regression gene expression programme group method datum handle gmdh inductive logic programme instance base learn lazy learn learn automaton learn vector quantization logistic model tree minimum message length decision tree decision graph etc near neighbor algorithm analogical model probably approximately correct learn pac learn ripple rule knowledge acquisition methodology symbolic machine learn algorithm support vector machine random forest ensemble classifier bootstrap aggregate bag boost meta algorithm ordinal classification information fuzzy network ifn conditional random field anova quadratic classifier k near neighbor boost sprint bayesian network naive baye hide markov model hierarchical hide markov model bayesian bayesian statistic bayesian knowledge base naive baye gaussian naive baye multinomial naive baye average one dependence estimator aode bayesian belief network bbn bayesian network bn decision tree algorithm decision tree algorithm decision tree classification regression tree cart iterative dichotomiser c algorithm c algorithm chi square automatic interaction detection chaid decision stump conditional decision tree algorithm random forest sliq linear classifi linear classifi fisher linear discriminant linear regression logistic regression multinomial logistic regression naive baye classifi perceptron support vector machine unsupervised learn unsupervised learn expectation maximization algorithm vector quantization generative topographic map information bottleneck method artificial neural network artificial neural network feedforward neural network extreme learn machine logic learn machine self organize map association rule learn association rule learn apriori algorithm eclat algorithm fp growth algorithm hierarchical cluster hierarchical cluster single linkage cluster conceptual cluster cluster analysis cluster analysis birch dbscan expectation maximization fuzzy cluster hierarchical cluster k mean algorithm k mean cluster k median mean shift optic algorithm anomaly detection anomaly detection k near neighbor classification k nn local outlier factor semi supervise learn semi supervise learn active learn special case semi supervise learn learn algorithm able interactively query user information source obtain desire output new datum point generative model low density separation graph base method co train transduction deep learn deep learn deep belief network deep boltzmann machine deep convolutional neural network deep recurrent neural network hierarchical temporal memory deep boltzmann machine dbm stack auto encoder machine learn method problem anomaly detection association rule bias variance dilemma classification multi label classification cluster datum pre process empirical risk minimization feature engineer feature learn learn rank occam learn online machine learn pac learn regression reinforcement learn semi supervise learn statistical learn structure prediction graphical model bayesian network conditional random field crf hide markov model hmm unsupervised learn vc theory machine learn research machine learn research list artificial intelligence project list dataset machine learn research history machine learn history machine learn timeline machine learn machine learn project machine learn project deepmind google brain machine learn organization machine learn organization knowledge engineer machine learn group machine learn conference workshop artificial intelligence security aisec co locate workshop cc conference neural information process system nip ecml pkdd international conference machine learn icml machine learn publication book machine learn book machine learn machine learn journal machine learn journal machine learn research jmlr neural computation person influential machine learn alberto broggi andrei knyazev andrew mccallum andrew ng armin b cremer ayanna howard barney pell ben goertzel ben taskar bernhard sch lkopf brian ripley christopher g atkeson corinna cort demis hassabis dougla lenat eric x ernst dickmann geoffrey hinton co inventor backpropagation contrastive divergence train algorithm han peter kriegel hartmut neven heikki mannila jacek zurada jaime carbonell jerome h friedman john lafferty john platt invent smo platt scale julie beth lovin j rgen schmidhuber karl steinbuch katia sycara leo breiman invent bag random forest lise getoor luca mare gambardella l bottou marcus hutter mehryar mohri michael collin michael jordan michael l littman nando de freita ofer dekel oren etzioni pedro domingo peter flach pierre baldi pushmeet kohli ray kurzweil rayid ghani ross quinlan salvatore j stolfo sebastian thrun selmer bringsjord sepp hochreiter shane legg stephen muggleton steve omohundro tom mitchell trevor hastie vasant honavar vladimir vapnik co inventor svm vc theory yann lecun invent convolutional neural network yasuo matsuyama yoshua bengio zoubin ghahramani see conjurer outline artificial intelligence outline computer vision outline natural language process outline robotic accuracy paradox action model learn activation function activity recognition adaline adaptive neuro fuzzy inference system adaptive resonance theory additive smooth adjust mutual information aika software aiva aixi alchemyapi alexnet algorithm selection algorithmic inference algorithmic learn theory alphago alphago zero alternate decision tree apprenticeship learn causal markov condition competitive learn concept learn decision tree learn distribution learn theory eager learn end end reinforcement learn error tolerance pac learn explanation base learn feature glove hyperparameter ibm machine learn hub inferential theory learn learn automaton learn classifi system learn rule learn error theory learn framework machine learn control machine learn bioinformatic margin markov chain geostatistic markov chain monte carlo mcmc markov information source markov logic network markov model markov random field markovian discrimination maximum entropy markov model multi arm bandit multi task learn multilinear subspace learn multimodal learn multiple instance learn multiple instance learn never end language learn offline learn parity learn population base incremental learn predictive learn preference learn proactive learn proximal gradient method learn semantic analysis similarity learn sparse dictionary learn stability learn theory statistical learn theory statistical relational learn tanagra transfer learn variable order markov model version space learn waffle weka loss function loss function classification mean square error mse mean square prediction error mspe taguchi loss function low energy adaptive cluster hierarchy anne tate ant colony optimization algorithm anthony levandowski anti unification computer science apache flume apache giraph apache mahout apache singa apache spark apache systemml aphelion software arabic speech corpus archetypal analysis arthur zimek artificial ant artificial bee colony algorithm artificial development artificial immune system astrostatistic average one dependence estimator bag word model balance cluster ball tree base rate bat algorithm baum welch algorithm bayesian hierarchical model bayesian interpretation kernel regularization bayesian optimization bayesian structural time series bee algorithm behavioral cluster bernoulli scheme bias variance tradeoff bicluster binarization consensus partition matrix binary classification bing predict bio inspire compute biogeography base optimization biplot bondy theorem bongard problem bradley terry model brownboost brown cluster burst error cbcl mit ciml community portal cma es cure datum cluster algorithm cache language model calibration statistic canonical correspondence analysis canopy cluster algorithm cascade classifier category utility cellcognition cellular evolutionary algorithm chi square automatic interaction detection chromosome genetic algorithm classifi chain cleverbot clonal selection algorithm cluster weight model cluster high dimensional datum cluster illusion coboost cobweb cluster cognitive computer cognitive robotic collostructional analysis common method variance complete linkage cluster computer automate design concept class concept drift conference artificial general intelligence conference knowledge discovery datum mine confirmatory factor analysis confusion matrix congruence coefficient connect computer system consensus cluster constrain cluster constrain conditional model constructive cooperative coevolution correlation cluster correspondence analysis cortica couple pattern learner cross entropy method cross validation statistic crossover genetic algorithm cuckoo search cultural algorithm cultural consensus theory curse dimensionality dadisp darpa lagr program darkfor dartmouth workshop darwintune datum mine extension datum exploration datum pre process datum stream cluster dataiku davy bouldin index decision boundary decision list decision tree model deductive classifi deepart deepdream deep web technology define length dendrogram dependability state model detail balance determine numb cluster datum set detrend correspondence analysis developmental robotic diffbot differential evolution discrete phase type distribution discriminative model dissociate press distribute r dlib document classification document hate domain adaptation doubly stochastic model dual phase evolution dunn index dynamic bayesian network dynamic markov compression dynamic topic model dynamic unobserved effect model edlut elki edge recombination operator effective fitness elastic map elastic match elbow method cluster emergent software encog entropy rate erkki oja eurisko european conference artificial intelligence evaluation binary classifier evolution strategy evolution window evolutionary algorithm landmark detection evolutionary algorithm evolutionary art evolutionary music evolutionary programme evolvability computer science evolve antenna evolver software evolve classification function expectation propagation exploratory factor analysis f score flame cluster factor analysis mix datum factor graph factor regression model factor language model far traversal fast frugal tree feature selection toolbox feature hash feature scale feature vector firefly algorithm difference estimator order inductive learner fish school search fisher kernel fitness approximation fitness function fitness proportionate selection fluentd fold home formal concept analysis forward algorithm fowlke mallow index frederick jelinek frrole functional principal component analysis gatto glimmer gary bryce fogel gaussian adaptation gaussian process gaussian process emulator gene prediction general architecture text engineer generalization error generalize canonical correlation generalize filter generalize iterative scale generalize multidimensional scale generative adversarial network generative model genetic algorithm genetic algorithm schedule genetic algorithm economic genetic fuzzy system genetic memory computer science genetic operator genetic programme genetic representation geographical cluster gesture description language geworkbench glossary artificial intelligence glottochronology golem ilp google matrix graft decision tree gramian matrix grammatical evolution granular compute graphlab graph kernel gregory john boyle gremlin programme language growth function humant humanoid ant algorithm hammersley clifford theorem harmony search hebbian theory hide markov random field hide semi markov model hierarchical hide markov model high order factor analysis highway network hinge loss holland schema theorem hopkin statistic hoshen kopelman algorithm huber loss ircf ian goodfellow ilastik ilya sutskever immunocomput imperialist competitive algorithm inauthentic text incremental decision tree induction regular language inductive bias inductive probability inductive programme influence diagram information harvest information fuzzy network information gain decision tree information gain ratio inheritance genetic algorithm instance selection intel realsense interact particle system interactive machine translation international joint conference artificial intelligence international meet computational intelligence method bioinformatic biostatistic international semantic web conference iris flower datum set island algorithm isotropic position item response theory iterative viterbi decode joone jabberwacky jaccard index jackknife variance estimate random forest java grammatical evolution joseph nechvatal jubatus julia programme language junction tree algorithm k svd k mean k median cluster k medoid knime kxen inc k q flat kaggle kalman filter katz back model kera kernel adaptive filter kernel density estimation kernel eigenvoice kernel embed distribution kernel method kernel perceptron kernel random forest kinect klaus robert ller kneser ney smooth knowledge vault knowledge integration libsvm lpboost label datum languageware language acquisition device computer language identification limit language model large margin near neighbor latent dirichlet allocation latent class model latent semantic analysis latent variable latent variable model lattice miner layer hide markov model learnable function class little square support vector machine leave one error leslie p kaelbl linear genetic programme linear predictor function linear separability lingyun gu linkurious lior ron business executive list genetic algorithm application list metaphor base metaheuristic list text mine software local case control sample local independence local tangent space alignment locality sensitive hash log linear model logistic model tree low rank approximation low rank matrix approximation matlab mimic immunology mxnet mallet software project manifold regularization margin infuse relax algorithm margin classifi mark v shaney massive online analysis matrix regularization matthew correlation coefficient mean shift mean square error mean square prediction error measurement invariance medoid meemix melomic memetic algorithm meta optimization mexican international conference artificial intelligence michael kearn computer scientist minhash mixture model mlpy model dna evolution moral graph mountain car problem movidius multi arm bandit multi label classification multi expression programme multiclass classification multidimensional analysis multifactor dimensionality reduction multilinear principal component analysis multiple correspondence analysis multiple discriminant analysis multiple factor analysis multiple sequence alignment multiplicative weight update method multispectral pattern recognition mutation genetic algorithm mysteryvibe n gram nominate scale method native language identification natural language toolkit natural evolution strategy near neighbor chain algorithm near centroid classifier near neighbor search neighbor join nest lab netminer netowl neural designer neural engineer object neural lab neural model field neural network software neurosolution neuro laboratory neuroevolution neuroph niki have noisy channel model noisy text analytic nonlinear dimensionality reduction novelty detection nuisance variable numenta one class classification onnx opennlp optimal discriminant analysis oracle datum mine orange software ordination statistic overfitt progol psipr pachinko allocation pagerank parallel metaheuristic parity benchmark part speech tag particle swarm optimization path dependence pattern language formal language peltarion synapse perplexity persian speech corpus pica app pietro perona pipeline pilot piranha software pitman yor process plate notation polynomial kernel pop music automation population process portable format analytic predictive model markup language predictive state representation preference regression premature convergence principal geodesic analysis prior knowledge pattern recognition prisma app probabilistic action core probabilistic context free grammar probabilistic latent semantic analysis probabilistic soft logic probability match probit model product expert programme big datum r proper generalize decomposition prune decision tree pushpak bhattacharyya q methodology qloo quality control genetic algorithm quantum artificial intelligence lab queue theory quick draw r programme language rada mihalcea rademacher complexity radial basis function kernel rand index random index random projection random subspace method rank svm rapidminer rattle gui raymond cattell reason system regularization perspective support vector machine relational datum mine relationship square relevance vector machine relief feature selection renjin repertory grid representer theorem reward base selection richard zemel right explanation roboearth robust principal component analysis ruleml symposium rule induction rule extraction system family sa software snn spss modeler subclu sample complexity sample exclusion dimension santa fe trail problem savi technology schema genetic algorithm search base software engineer selection genetic algorithm self service semantic suite semantic fold semantic map statistic semidefinite embed sense network sensorium project sequence label sequential minimal optimization shatter set shogun toolbox silhouette cluster simhash simrank similarity measure simple match coefficient simultaneous localization map sinkov statistic skymind slice inverse regression smartmatch snake ladder soft independent model class analogy soft output viterbi algorithm solomonoff theory inductive inference solveit software spectral cluster spike slab variable selection statistical machine translation statistical parse statistical semantic stefano soatto stephen wolfram stochastic block model stochastic cellular automaton stochastic diffusion search stochastic grammar stochastic matrix stochastic universal sample stress majorization string kernel structural equation model structural risk minimization structure sparsity regularization structure support vector machine subclass reachability sufficient dimension reduction sukhotin algorithm sum absolute difference sum absolute transform difference swarm intelligence switch kalman filter symbolic regression synchronous context free grammar syntactic pattern recognition td gammon timit teach dimension teuvo kohonen textual case base reason theory conjoint measurement thoma g dietterich thurstonian model topic model tournament selection train test validation set transiogram trax image recognition trigram tagger truncation selection tucker decomposition uima upgma ugly duckling theorem uncertain datum uniform convergence probability unique negative dimension universal portfolio algorithm user behavior analytic vc dimension vgg image annotator vigra validation set vapnik chervonenki theory variable order bayesian network variable kernel density estimation variable rule analysis variational message pass varimax rotation vector quantization vicarious company viterbi algorithm vowpal wabbit waca cluster algorithm wpgma ward method weasel program whiten transformation winnow algorithm win stay lose switch witness set wolfram language wolfram mathematica writer invariant xgboost yooreeka zeroth software read trevor hastie robert tibshirani jerome h friedman element statistical learn springer isbn pedro domingo september master algorithm basic book isbn mehryar mohri afshin rostamizadeh ameet talwalkar foundation machine learn mit press isbn ian h witten eibe frank datum mine practical machine learn tool technique morgan kaufmann pp isbn david j c mackay information theory inference learn algorithm cambridge cambridge university press isbn richard duda peter e hart david g stork pattern classification nd edition wiley new york isbn christoph bishop neural network pattern recognition oxford university press isbn vladimir vapnik statistical learn theory wiley interscience isbn ray solomonoff inductive inference machine ire convention record section information theory part pp ray solomonoff inductive inference machine privately circulate report dartmouth summer research conference have reference external link datum science datum insight mit machine learn international machine learn society popular online course andrew ng coursera use gnu octave course free version stanford university actual course teach ng whose lecture conjurer available free mloss academic database open source machine learn software</th>\n",
       "      <td>0.0</td>\n",
       "      <td>0.0</td>\n",
       "      <td>0.0</td>\n",
       "      <td>0.0</td>\n",
       "      <td>0.0</td>\n",
       "      <td>0.0</td>\n",
       "      <td>0.0</td>\n",
       "      <td>0.0</td>\n",
       "      <td>0.0</td>\n",
       "      <td>0.0</td>\n",
       "      <td>...</td>\n",
       "      <td>0.0</td>\n",
       "      <td>0.0</td>\n",
       "      <td>0.0</td>\n",
       "      <td>0.0</td>\n",
       "      <td>0.0</td>\n",
       "      <td>0.0</td>\n",
       "      <td>0.0</td>\n",
       "      <td>0.0</td>\n",
       "      <td>0.0</td>\n",
       "      <td>0.0</td>\n",
       "    </tr>\n",
       "    <tr>\n",
       "      <th>accuracy paradox predictive analytic state predictive model give level accuracy may great predictive power model high accuracy may well avoid accuracy metric favor metric precision recall accuracy often start point analyze quality predictive model good obvious criterion prediction accuracy measure ratio correct prediction total numb case evaluate may seem obvious ratio correct prediction case key metric predictive model may high accuracy useless example predictive model insurance fraud application case predict high risk model investigate evaluate performance model insurance company create sample datum set claim case validation sample carefully check know case fraudulent analyze quality model insurance use table confusion definition accuracy table confusion model fraud calculation accuracy model fraud show n p n f p f n p displaystyle mathrm frac tn tp tn fp fn tp tn numb true negative case fp numb false positive case fn numb false negative case tp numb true positive case formula definition accuracy table table confusion fraud model fraud displaystyle mathrm frac formula accuracy model fraud accuracy model fraud appear perform fairly good paradox lie fact accuracy easily improve always predict fraud table confusion accuracy trivial always predict negative model fraud accuracy model show table table confusion fraud model fraud displaystyle mathrm frac formula accuracy model fraud model fraudreduc rate inaccurate prediction apparent improvement new model fraud show few incorrect prediction markedly improve accuracy compare original model fraud obviously useless alternative model fraud offer value company prevent fraud little accurate model useful accurate model caution advise use accuracy evaluation predictive model appropriate cost false positive false alarm equal cost false negative miss prediction otherwise appropriate loss function determine see conjurer receiver operate characteristic measure good model prediction reference general reference</th>\n",
       "      <td>0.0</td>\n",
       "      <td>0.0</td>\n",
       "      <td>0.0</td>\n",
       "      <td>0.0</td>\n",
       "      <td>0.0</td>\n",
       "      <td>0.0</td>\n",
       "      <td>0.0</td>\n",
       "      <td>0.0</td>\n",
       "      <td>0.0</td>\n",
       "      <td>0.0</td>\n",
       "      <td>...</td>\n",
       "      <td>0.0</td>\n",
       "      <td>0.0</td>\n",
       "      <td>0.0</td>\n",
       "      <td>0.0</td>\n",
       "      <td>0.0</td>\n",
       "      <td>0.0</td>\n",
       "      <td>0.0</td>\n",
       "      <td>0.0</td>\n",
       "      <td>0.0</td>\n",
       "      <td>0.0</td>\n",
       "    </tr>\n",
       "  </tbody>\n",
       "</table>\n",
       "<p>5 rows × 51439 columns</p>\n",
       "</div>"
      ],
      "text/plain": [
       "                                                     aa  aaa  aaaa  aaaaj  \\\n",
       "text_clean                                                                  \n",
       "datum exploration approach similar initial datu...  0.0  0.0   0.0    0.0   \n",
       "dataset use machine learn research cite peer re...  0.0  0.0   0.0    0.0   \n",
       "machine learn field computer science give compu...  0.0  0.0   0.0    0.0   \n",
       "follow outline provide overview topical guide m...  0.0  0.0   0.0    0.0   \n",
       "accuracy paradox predictive analytic state pred...  0.0  0.0   0.0    0.0   \n",
       "\n",
       "                                                    aaabc  \\\n",
       "text_clean                                                  \n",
       "datum exploration approach similar initial datu...    0.0   \n",
       "dataset use machine learn research cite peer re...    0.0   \n",
       "machine learn field computer science give compu...    0.0   \n",
       "follow outline provide overview topical guide m...    0.0   \n",
       "accuracy paradox predictive analytic state pred...    0.0   \n",
       "\n",
       "                                                    aaabcaaabcaaabcaaabc  \\\n",
       "text_clean                                                                 \n",
       "datum exploration approach similar initial datu...                   0.0   \n",
       "dataset use machine learn research cite peer re...                   0.0   \n",
       "machine learn field computer science give compu...                   0.0   \n",
       "follow outline provide overview topical guide m...                   0.0   \n",
       "accuracy paradox predictive analytic state pred...                   0.0   \n",
       "\n",
       "                                                    aaai  aaajxb  aaas  aab  \\\n",
       "text_clean                                                                    \n",
       "datum exploration approach similar initial datu...   0.0     0.0   0.0  0.0   \n",
       "dataset use machine learn research cite peer re...   0.0     0.0   0.0  0.0   \n",
       "machine learn field computer science give compu...   0.0     0.0   0.0  0.0   \n",
       "follow outline provide overview topical guide m...   0.0     0.0   0.0  0.0   \n",
       "accuracy paradox predictive analytic state pred...   0.0     0.0   0.0  0.0   \n",
       "\n",
       "                                                    ...   zylab  zynga  zynx  \\\n",
       "text_clean                                          ...                        \n",
       "datum exploration approach similar initial datu...  ...     0.0    0.0   0.0   \n",
       "dataset use machine learn research cite peer re...  ...     0.0    0.0   0.0   \n",
       "machine learn field computer science give compu...  ...     0.0    0.0   0.0   \n",
       "follow outline provide overview topical guide m...  ...     0.0    0.0   0.0   \n",
       "accuracy paradox predictive analytic state pred...  ...     0.0    0.0   0.0   \n",
       "\n",
       "                                                    zynxambulatory  zynxcare  \\\n",
       "text_clean                                                                     \n",
       "datum exploration approach similar initial datu...             0.0       0.0   \n",
       "dataset use machine learn research cite peer re...             0.0       0.0   \n",
       "machine learn field computer science give compu...             0.0       0.0   \n",
       "follow outline provide overview topical guide m...             0.0       0.0   \n",
       "accuracy paradox predictive analytic state pred...             0.0       0.0   \n",
       "\n",
       "                                                    zynxevidence  zynxorder  \\\n",
       "text_clean                                                                    \n",
       "datum exploration approach similar initial datu...           0.0        0.0   \n",
       "dataset use machine learn research cite peer re...           0.0        0.0   \n",
       "machine learn field computer science give compu...           0.0        0.0   \n",
       "follow outline provide overview topical guide m...           0.0        0.0   \n",
       "accuracy paradox predictive analytic state pred...           0.0        0.0   \n",
       "\n",
       "                                                    zyrion   zz  zzap  \n",
       "text_clean                                                             \n",
       "datum exploration approach similar initial datu...     0.0  0.0   0.0  \n",
       "dataset use machine learn research cite peer re...     0.0  0.0   0.0  \n",
       "machine learn field computer science give compu...     0.0  0.0   0.0  \n",
       "follow outline provide overview topical guide m...     0.0  0.0   0.0  \n",
       "accuracy paradox predictive analytic state pred...     0.0  0.0   0.0  \n",
       "\n",
       "[5 rows x 51439 columns]"
      ]
     },
     "execution_count": 13,
     "metadata": {},
     "output_type": "execute_result"
    }
   ],
   "source": [
    "term_matrix_df.head()"
   ]
  },
  {
   "cell_type": "markdown",
   "metadata": {},
   "source": [
    "### Create `search_terms` to use for testing search capabilities"
   ]
  },
  {
   "cell_type": "code",
   "execution_count": 14,
   "metadata": {},
   "outputs": [],
   "source": [
    "search_terms = [\n",
    "    {'term':'software'}, \n",
    "    {'term':'language'}, \n",
    "    {'term':'system'}, \n",
    "    {'term':'mysql'}\n",
    "]"
   ]
  },
  {
   "cell_type": "code",
   "execution_count": 15,
   "metadata": {},
   "outputs": [],
   "source": [
    "search_terms_df = pd.DataFrame(search_terms)"
   ]
  },
  {
   "cell_type": "code",
   "execution_count": 16,
   "metadata": {},
   "outputs": [
    {
     "data": {
      "text/plain": [
       "0    software\n",
       "1    language\n",
       "2      system\n",
       "3       mysql\n",
       "Name: term, dtype: object"
      ]
     },
     "execution_count": 16,
     "metadata": {},
     "output_type": "execute_result"
    }
   ],
   "source": [
    "search_terms_df.term"
   ]
  },
  {
   "cell_type": "markdown",
   "metadata": {},
   "source": [
    "### TFIDF_Vectorize `search_terms`"
   ]
  },
  {
   "cell_type": "code",
   "execution_count": 17,
   "metadata": {},
   "outputs": [],
   "source": [
    "search_terms_matrix = tfidf.transform(search_terms_df.term)"
   ]
  },
  {
   "cell_type": "code",
   "execution_count": 18,
   "metadata": {},
   "outputs": [],
   "source": [
    "search_terms_matrix_df = pd.DataFrame(search_terms_matrix.toarray(), \n",
    "                                     index=search_terms_df.term, \n",
    "                                     columns=tfidf.get_feature_names())"
   ]
  },
  {
   "cell_type": "code",
   "execution_count": 19,
   "metadata": {},
   "outputs": [
    {
     "data": {
      "text/html": [
       "<div>\n",
       "<table border=\"1\" class=\"dataframe\">\n",
       "  <thead>\n",
       "    <tr style=\"text-align: right;\">\n",
       "      <th></th>\n",
       "      <th>aa</th>\n",
       "      <th>aaa</th>\n",
       "      <th>aaaa</th>\n",
       "      <th>aaaaj</th>\n",
       "      <th>aaabc</th>\n",
       "      <th>aaabcaaabcaaabcaaabc</th>\n",
       "      <th>aaai</th>\n",
       "      <th>aaajxb</th>\n",
       "      <th>aaas</th>\n",
       "      <th>aab</th>\n",
       "      <th>...</th>\n",
       "      <th>zylab</th>\n",
       "      <th>zynga</th>\n",
       "      <th>zynx</th>\n",
       "      <th>zynxambulatory</th>\n",
       "      <th>zynxcare</th>\n",
       "      <th>zynxevidence</th>\n",
       "      <th>zynxorder</th>\n",
       "      <th>zyrion</th>\n",
       "      <th>zz</th>\n",
       "      <th>zzap</th>\n",
       "    </tr>\n",
       "    <tr>\n",
       "      <th>term</th>\n",
       "      <th></th>\n",
       "      <th></th>\n",
       "      <th></th>\n",
       "      <th></th>\n",
       "      <th></th>\n",
       "      <th></th>\n",
       "      <th></th>\n",
       "      <th></th>\n",
       "      <th></th>\n",
       "      <th></th>\n",
       "      <th></th>\n",
       "      <th></th>\n",
       "      <th></th>\n",
       "      <th></th>\n",
       "      <th></th>\n",
       "      <th></th>\n",
       "      <th></th>\n",
       "      <th></th>\n",
       "      <th></th>\n",
       "      <th></th>\n",
       "      <th></th>\n",
       "    </tr>\n",
       "  </thead>\n",
       "  <tbody>\n",
       "    <tr>\n",
       "      <th>software</th>\n",
       "      <td>0.0</td>\n",
       "      <td>0.0</td>\n",
       "      <td>0.0</td>\n",
       "      <td>0.0</td>\n",
       "      <td>0.0</td>\n",
       "      <td>0.0</td>\n",
       "      <td>0.0</td>\n",
       "      <td>0.0</td>\n",
       "      <td>0.0</td>\n",
       "      <td>0.0</td>\n",
       "      <td>...</td>\n",
       "      <td>0.0</td>\n",
       "      <td>0.0</td>\n",
       "      <td>0.0</td>\n",
       "      <td>0.0</td>\n",
       "      <td>0.0</td>\n",
       "      <td>0.0</td>\n",
       "      <td>0.0</td>\n",
       "      <td>0.0</td>\n",
       "      <td>0.0</td>\n",
       "      <td>0.0</td>\n",
       "    </tr>\n",
       "    <tr>\n",
       "      <th>language</th>\n",
       "      <td>0.0</td>\n",
       "      <td>0.0</td>\n",
       "      <td>0.0</td>\n",
       "      <td>0.0</td>\n",
       "      <td>0.0</td>\n",
       "      <td>0.0</td>\n",
       "      <td>0.0</td>\n",
       "      <td>0.0</td>\n",
       "      <td>0.0</td>\n",
       "      <td>0.0</td>\n",
       "      <td>...</td>\n",
       "      <td>0.0</td>\n",
       "      <td>0.0</td>\n",
       "      <td>0.0</td>\n",
       "      <td>0.0</td>\n",
       "      <td>0.0</td>\n",
       "      <td>0.0</td>\n",
       "      <td>0.0</td>\n",
       "      <td>0.0</td>\n",
       "      <td>0.0</td>\n",
       "      <td>0.0</td>\n",
       "    </tr>\n",
       "    <tr>\n",
       "      <th>system</th>\n",
       "      <td>0.0</td>\n",
       "      <td>0.0</td>\n",
       "      <td>0.0</td>\n",
       "      <td>0.0</td>\n",
       "      <td>0.0</td>\n",
       "      <td>0.0</td>\n",
       "      <td>0.0</td>\n",
       "      <td>0.0</td>\n",
       "      <td>0.0</td>\n",
       "      <td>0.0</td>\n",
       "      <td>...</td>\n",
       "      <td>0.0</td>\n",
       "      <td>0.0</td>\n",
       "      <td>0.0</td>\n",
       "      <td>0.0</td>\n",
       "      <td>0.0</td>\n",
       "      <td>0.0</td>\n",
       "      <td>0.0</td>\n",
       "      <td>0.0</td>\n",
       "      <td>0.0</td>\n",
       "      <td>0.0</td>\n",
       "    </tr>\n",
       "    <tr>\n",
       "      <th>mysql</th>\n",
       "      <td>0.0</td>\n",
       "      <td>0.0</td>\n",
       "      <td>0.0</td>\n",
       "      <td>0.0</td>\n",
       "      <td>0.0</td>\n",
       "      <td>0.0</td>\n",
       "      <td>0.0</td>\n",
       "      <td>0.0</td>\n",
       "      <td>0.0</td>\n",
       "      <td>0.0</td>\n",
       "      <td>...</td>\n",
       "      <td>0.0</td>\n",
       "      <td>0.0</td>\n",
       "      <td>0.0</td>\n",
       "      <td>0.0</td>\n",
       "      <td>0.0</td>\n",
       "      <td>0.0</td>\n",
       "      <td>0.0</td>\n",
       "      <td>0.0</td>\n",
       "      <td>0.0</td>\n",
       "      <td>0.0</td>\n",
       "    </tr>\n",
       "  </tbody>\n",
       "</table>\n",
       "<p>4 rows × 51439 columns</p>\n",
       "</div>"
      ],
      "text/plain": [
       "           aa  aaa  aaaa  aaaaj  aaabc  aaabcaaabcaaabcaaabc  aaai  aaajxb  \\\n",
       "term                                                                         \n",
       "software  0.0  0.0   0.0    0.0    0.0                   0.0   0.0     0.0   \n",
       "language  0.0  0.0   0.0    0.0    0.0                   0.0   0.0     0.0   \n",
       "system    0.0  0.0   0.0    0.0    0.0                   0.0   0.0     0.0   \n",
       "mysql     0.0  0.0   0.0    0.0    0.0                   0.0   0.0     0.0   \n",
       "\n",
       "          aaas  aab  ...   zylab  zynga  zynx  zynxambulatory  zynxcare  \\\n",
       "term                 ...                                                  \n",
       "software   0.0  0.0  ...     0.0    0.0   0.0             0.0       0.0   \n",
       "language   0.0  0.0  ...     0.0    0.0   0.0             0.0       0.0   \n",
       "system     0.0  0.0  ...     0.0    0.0   0.0             0.0       0.0   \n",
       "mysql      0.0  0.0  ...     0.0    0.0   0.0             0.0       0.0   \n",
       "\n",
       "          zynxevidence  zynxorder  zyrion   zz  zzap  \n",
       "term                                                  \n",
       "software           0.0        0.0     0.0  0.0   0.0  \n",
       "language           0.0        0.0     0.0  0.0   0.0  \n",
       "system             0.0        0.0     0.0  0.0   0.0  \n",
       "mysql              0.0        0.0     0.0  0.0   0.0  \n",
       "\n",
       "[4 rows x 51439 columns]"
      ]
     },
     "execution_count": 19,
     "metadata": {},
     "output_type": "execute_result"
    }
   ],
   "source": [
    "search_terms_matrix_df"
   ]
  },
  {
   "cell_type": "markdown",
   "metadata": {},
   "source": [
    "### Select a `search_term` and run a search"
   ]
  },
  {
   "cell_type": "code",
   "execution_count": 20,
   "metadata": {},
   "outputs": [],
   "source": [
    "np.random.seed(22)"
   ]
  },
  {
   "cell_type": "code",
   "execution_count": 21,
   "metadata": {
    "scrolled": true
   },
   "outputs": [
    {
     "data": {
      "text/html": [
       "<div>\n",
       "<table border=\"1\" class=\"dataframe\">\n",
       "  <thead>\n",
       "    <tr style=\"text-align: right;\">\n",
       "      <th></th>\n",
       "      <th>aa</th>\n",
       "      <th>aaa</th>\n",
       "      <th>aaaa</th>\n",
       "      <th>aaaaj</th>\n",
       "      <th>aaabc</th>\n",
       "      <th>aaabcaaabcaaabcaaabc</th>\n",
       "      <th>aaai</th>\n",
       "      <th>aaajxb</th>\n",
       "      <th>aaas</th>\n",
       "      <th>aab</th>\n",
       "      <th>...</th>\n",
       "      <th>zylab</th>\n",
       "      <th>zynga</th>\n",
       "      <th>zynx</th>\n",
       "      <th>zynxambulatory</th>\n",
       "      <th>zynxcare</th>\n",
       "      <th>zynxevidence</th>\n",
       "      <th>zynxorder</th>\n",
       "      <th>zyrion</th>\n",
       "      <th>zz</th>\n",
       "      <th>zzap</th>\n",
       "    </tr>\n",
       "    <tr>\n",
       "      <th>term</th>\n",
       "      <th></th>\n",
       "      <th></th>\n",
       "      <th></th>\n",
       "      <th></th>\n",
       "      <th></th>\n",
       "      <th></th>\n",
       "      <th></th>\n",
       "      <th></th>\n",
       "      <th></th>\n",
       "      <th></th>\n",
       "      <th></th>\n",
       "      <th></th>\n",
       "      <th></th>\n",
       "      <th></th>\n",
       "      <th></th>\n",
       "      <th></th>\n",
       "      <th></th>\n",
       "      <th></th>\n",
       "      <th></th>\n",
       "      <th></th>\n",
       "      <th></th>\n",
       "    </tr>\n",
       "  </thead>\n",
       "  <tbody>\n",
       "    <tr>\n",
       "      <th>mysql</th>\n",
       "      <td>0.0</td>\n",
       "      <td>0.0</td>\n",
       "      <td>0.0</td>\n",
       "      <td>0.0</td>\n",
       "      <td>0.0</td>\n",
       "      <td>0.0</td>\n",
       "      <td>0.0</td>\n",
       "      <td>0.0</td>\n",
       "      <td>0.0</td>\n",
       "      <td>0.0</td>\n",
       "      <td>...</td>\n",
       "      <td>0.0</td>\n",
       "      <td>0.0</td>\n",
       "      <td>0.0</td>\n",
       "      <td>0.0</td>\n",
       "      <td>0.0</td>\n",
       "      <td>0.0</td>\n",
       "      <td>0.0</td>\n",
       "      <td>0.0</td>\n",
       "      <td>0.0</td>\n",
       "      <td>0.0</td>\n",
       "    </tr>\n",
       "  </tbody>\n",
       "</table>\n",
       "<p>1 rows × 51439 columns</p>\n",
       "</div>"
      ],
      "text/plain": [
       "        aa  aaa  aaaa  aaaaj  aaabc  aaabcaaabcaaabcaaabc  aaai  aaajxb  aaas  \\\n",
       "term                                                                            \n",
       "mysql  0.0  0.0   0.0    0.0    0.0                   0.0   0.0     0.0   0.0   \n",
       "\n",
       "       aab  ...   zylab  zynga  zynx  zynxambulatory  zynxcare  zynxevidence  \\\n",
       "term        ...                                                                \n",
       "mysql  0.0  ...     0.0    0.0   0.0             0.0       0.0           0.0   \n",
       "\n",
       "       zynxorder  zyrion   zz  zzap  \n",
       "term                                 \n",
       "mysql        0.0     0.0  0.0   0.0  \n",
       "\n",
       "[1 rows x 51439 columns]"
      ]
     },
     "execution_count": 21,
     "metadata": {},
     "output_type": "execute_result"
    }
   ],
   "source": [
    "random_search_term_df = search_terms_matrix_df.sample()\n",
    "random_search_term_df"
   ]
  },
  {
   "cell_type": "code",
   "execution_count": 22,
   "metadata": {},
   "outputs": [],
   "source": [
    "df_search = term_matrix_df.append(random_search_term_df)"
   ]
  },
  {
   "cell_type": "code",
   "execution_count": 23,
   "metadata": {},
   "outputs": [],
   "source": [
    "n_components = 50\n",
    "SVD = TruncatedSVD(n_components)"
   ]
  },
  {
   "cell_type": "code",
   "execution_count": 24,
   "metadata": {},
   "outputs": [],
   "source": [
    "component_names = [\"component_\"+str(i+1) for i in range(n_components)]"
   ]
  },
  {
   "cell_type": "code",
   "execution_count": 25,
   "metadata": {},
   "outputs": [],
   "source": [
    "SVD_data = SVD.fit_transform(df_search)"
   ]
  },
  {
   "cell_type": "code",
   "execution_count": 26,
   "metadata": {},
   "outputs": [],
   "source": [
    "SVD_df = pd.DataFrame(SVD_data, \n",
    "                     index=df_search.index, \n",
    "                     columns=component_names)"
   ]
  },
  {
   "cell_type": "markdown",
   "metadata": {},
   "source": [
    "### Cosine Similarity to find top 5 related articles to `search_term`"
   ]
  },
  {
   "cell_type": "code",
   "execution_count": 27,
   "metadata": {},
   "outputs": [],
   "source": [
    "from sklearn.metrics.pairwise import cosine_similarity"
   ]
  },
  {
   "cell_type": "code",
   "execution_count": 28,
   "metadata": {},
   "outputs": [
    {
     "data": {
      "text/html": [
       "<div>\n",
       "<table border=\"1\" class=\"dataframe\">\n",
       "  <thead>\n",
       "    <tr style=\"text-align: right;\">\n",
       "      <th></th>\n",
       "      <th>component_1</th>\n",
       "      <th>component_2</th>\n",
       "      <th>component_3</th>\n",
       "      <th>component_4</th>\n",
       "      <th>component_5</th>\n",
       "      <th>component_6</th>\n",
       "      <th>component_7</th>\n",
       "      <th>component_8</th>\n",
       "      <th>component_9</th>\n",
       "      <th>component_10</th>\n",
       "      <th>...</th>\n",
       "      <th>component_41</th>\n",
       "      <th>component_42</th>\n",
       "      <th>component_43</th>\n",
       "      <th>component_44</th>\n",
       "      <th>component_45</th>\n",
       "      <th>component_46</th>\n",
       "      <th>component_47</th>\n",
       "      <th>component_48</th>\n",
       "      <th>component_49</th>\n",
       "      <th>component_50</th>\n",
       "    </tr>\n",
       "  </thead>\n",
       "  <tbody>\n",
       "    <tr>\n",
       "      <th>mysql</th>\n",
       "      <td>0.008956</td>\n",
       "      <td>-0.007938</td>\n",
       "      <td>-0.006568</td>\n",
       "      <td>-0.007648</td>\n",
       "      <td>-0.020818</td>\n",
       "      <td>0.004924</td>\n",
       "      <td>0.009098</td>\n",
       "      <td>-0.018215</td>\n",
       "      <td>0.010778</td>\n",
       "      <td>0.004295</td>\n",
       "      <td>...</td>\n",
       "      <td>-0.005058</td>\n",
       "      <td>-0.01955</td>\n",
       "      <td>-0.005789</td>\n",
       "      <td>-0.016604</td>\n",
       "      <td>-0.005257</td>\n",
       "      <td>-0.003277</td>\n",
       "      <td>-0.017035</td>\n",
       "      <td>-0.012724</td>\n",
       "      <td>-0.016574</td>\n",
       "      <td>-0.000082</td>\n",
       "    </tr>\n",
       "  </tbody>\n",
       "</table>\n",
       "<p>1 rows × 50 columns</p>\n",
       "</div>"
      ],
      "text/plain": [
       "       component_1  component_2  component_3  component_4  component_5  \\\n",
       "mysql     0.008956    -0.007938    -0.006568    -0.007648    -0.020818   \n",
       "\n",
       "       component_6  component_7  component_8  component_9  component_10  \\\n",
       "mysql     0.004924     0.009098    -0.018215     0.010778      0.004295   \n",
       "\n",
       "           ...       component_41  component_42  component_43  component_44  \\\n",
       "mysql      ...          -0.005058      -0.01955     -0.005789     -0.016604   \n",
       "\n",
       "       component_45  component_46  component_47  component_48  component_49  \\\n",
       "mysql     -0.005257     -0.003277     -0.017035     -0.012724     -0.016574   \n",
       "\n",
       "       component_50  \n",
       "mysql     -0.000082  \n",
       "\n",
       "[1 rows x 50 columns]"
      ]
     },
     "execution_count": 28,
     "metadata": {},
     "output_type": "execute_result"
    }
   ],
   "source": [
    "SVD_term_vect = SVD_df.loc[random_search_term_df.index]\n",
    "SVD_term_vect"
   ]
  },
  {
   "cell_type": "code",
   "execution_count": 29,
   "metadata": {},
   "outputs": [
    {
     "data": {
      "text/plain": [
       "((4100, 50), (1, 50))"
      ]
     },
     "execution_count": 29,
     "metadata": {},
     "output_type": "execute_result"
    }
   ],
   "source": [
    "SVD_df.shape, SVD_term_vect.shape"
   ]
  },
  {
   "cell_type": "code",
   "execution_count": 30,
   "metadata": {
    "scrolled": true
   },
   "outputs": [],
   "source": [
    "SVD_df['cosine_sim'] = cosine_similarity(SVD_df, SVD_term_vect)"
   ]
  },
  {
   "cell_type": "markdown",
   "metadata": {},
   "source": [
    "### Final Result to Search"
   ]
  },
  {
   "cell_type": "code",
   "execution_count": 32,
   "metadata": {
    "scrolled": true
   },
   "outputs": [
    {
     "data": {
      "text/html": [
       "<div>\n",
       "<table border=\"1\" class=\"dataframe\">\n",
       "  <thead>\n",
       "    <tr style=\"text-align: right;\">\n",
       "      <th></th>\n",
       "      <th>cosine_sim</th>\n",
       "    </tr>\n",
       "  </thead>\n",
       "  <tbody>\n",
       "    <tr>\n",
       "      <th>mysql</th>\n",
       "      <td>1.000000</td>\n",
       "    </tr>\n",
       "    <tr>\n",
       "      <th>cm make simple cmsm free open source gpl content management system cm provide developer programmer site owner web base development administration area packt publish annual award open source content management system compare include drupal wordpress ez publish joomla software design cm make simple open source package build use php support mysql although postgresql previously support developer choose remove postgresql support recent version long support database except mysql template system drive use smarty template engine cm make simple aim provide easy development customization theme add module dynamic menu tag translation develope new feature tab open full default text developer start erase bit need add tag link plugin know module suggest customise exist work markup code feature cm make simple web base admin section theme template stylesheet development install update add module configure page content block user group permission module theme module cm make simple design base package impose unnecessary module functionality user require site owner add module tag appropriate site small numb core module include default installation notably news manager search function wysiwyg editor tinymce plugin add module gallery guestbook form builder captcha company user directory e commerce shop calendar blog rss numerous additional module available via module repository module manager lack inventory management support party payment process mechanism paypal module ship sale tax calculator shop cart functionality available drupal joomla wordpress need build e commerce site theme internal template stylesheet system allow end user theme creation other available theme repository download developer choose one close wish customise software requirement cmsm require web server php enable php recommend phar support putenv support work system temporary directory installation assistant cmsm x require minimum php recommend little mb available memory php php tokenizer support enable gd enable manipulate graphic file mysql enough access server upload file change permission note cm make simple officially support php safe mode support support cm make simple include content install default build help online doc commercial pay support community cm make simple hold annual meet enthusiast know geek moot seminar q discussion hold history oct three quarter million download reach aug cm make simple reach one million download release history see conjurer content management system list content management system reference external link official site official site cm make simple official support forum official core module development forge official documentation tutorial tutorial beginner concise introduction cm make simple</th>\n",
       "      <td>0.829092</td>\n",
       "    </tr>\n",
       "    <tr>\n",
       "      <th>exponent cm free open source open standard modular enterprise software framework content management system cm write programme language php exponent cm edit system allow website content edit page appear without back end administration default installation include set module manage typical website additional module develope community open source developer install via web browser exponent cm install linux unix mac os x window environment platform support apache web server php language version x exponent cm currently require mysql recommend database store content setting history exponent cm originally write design jame hunt oic group inc start minor contribution make oic member fr dirkse greg otte adam kessler original work do hunt hunt leave oic group bug fix do exponent dirkse kessler come back oic group together dirkse try revitalize project release version follow shortly thereafter summer oic hire phillip ball active member exponent cm open source community version ship shortly try get release ready kessler start plan new model view controller mvc framework exponent ball involve yui library two different research path converge fall kessler ball start new version kessler write new exponent framework ball clean write interface try tightly integrate yui javascript library result exponent exponent mvc exponent release summer follow series pre release version exponent release version exponent release gpl january exponent cm site switch new forum software addition software bug report system available core functionality exponent cm exponent framework still manage oic group community open source developer make module translation theme contribution current exponent cm software news provide via website blog theme exponent cm design grind designer mind theme exponent cm write use html xhtml css hook place theme file integrate exponent cm theme html base design convert exponent theme exponent cm content presentation separate accomplish smarty template engine use creation view view allow content display different look customize match theme site translation translation exponent cm x interface available language english default danish dansk german deutsch english source manage oic group inc danish translation manage elund christensen jen thomsen thoma b nielsen german translation manage gerhard starrermayr exponent x currently available english spanish german danish french norwegian portuguese czech finnish ready easy translation language see conjurer content management system list content management system reference external link exponent cm website exponent cm facebook exponent cm twitter exponent cm documentation website open source cm exponent demo</th>\n",
       "      <td>0.809465</td>\n",
       "    </tr>\n",
       "    <tr>\n",
       "      <th>virtuemart formerly know mambo phpshop open source e commerce solution design extension mambo joomla content management system cm virtuemart write php require mysql database environment storage well suit low medium level traffic web site history virtuemart begin offshoot stand alone phpshop e commerce web application originally dub mambo phpshop become substantial native e commerce component mambo cm system community fork mambo joomla developer brand mambo phpshop virtuemart officially support new joomla cm current implementation may still function mambo cm old edition mambo phpshop still available download long actively support originally develope ren eberhardt biermann september new team begin develope virtuemart new version release december october developer team declare end life virtuemart virtuemart long maintain joomla compatibility feature virtuemart support unlimited numb product category product able assign multiple category conjurer permit sale downloadable product offer catalog mode shop cart feature turn virtuemart support multiple price single product base around shopper group quantity range permit use variety different payment gateway virtuemart open source e commerce solution application code openly visible php allow php developer view update customize operation shop cart addition virtuemart offer simplify template call fly page virtuemart structure allow various shop cart page edit standard html css notably new virtuemart inclusion ability quickly change theme category product checkout cart page cart conjurer integrate rapid enable transaction datum send directly customer browser payment gateway without pass merchant system virtuemart support iphone app ivmstore usage virtuemart adopt online retailer week sep rd quantcast datum collate builtwith trend indicate virtuemart run top k site top k site top million site requirement virtuemart plugin joomla mambo system requirement several require support library extension include mysql xml zlib support build php support https openssl curl recommend compatibility virtuemart x compatible joomla x virtuemart x compatible joomla x virtuemart x compatible joomla x virtuemart x compatible joomla x virtuemart x compatible joomla x joomla x read virtuemart x x michelle griffin website design guide joomla virtuemart extension corporationguru isbn sarkar suhreed joomla e commerce virtuemart build feature rich online store joomla virtuemart x packt publish isbn joseph kwan joomla virtuemart theme template design packt publish isbn g tz nemeth virtuemart der joomla shop german franzis verlag isbn martin blasczyk das offizielle virtuemart buch online shop aufbauen und betreiben mit joomla german addison wesley isbn val rie isaksen thierry tardif joomla et virtuemart r ussir sa boutique en ligne french eyroll isbn jean l anderruthy joomla cr ez un site web et une boutique en ligne avec virtuemart volume french edition eni isbn roberto chimenti crea il tuo e commerce con joomla virtuemart italian hoepli isbn g j fierloo mystudy virtuemart dutch duuren medium van isbn virtuemart x x kerry w watson showme guide virtuemart user manual createspace isbn nemeth g tz virtuemart german franzis verlag isbn martin blasczyk das offizielle virtuemart buch online shop aufbauen und betreiben mit joomla german addison wesley sep isbn sasa paporovic virtuemart x der grundkur video tutorial german createspace independent publish platform asin b irlhs val rie isaksen thierry tardif r ussir sa boutique en ligne joomla et virtuemart french eyroll sep isbn see conjurer comparison shop cart software list online payment service provider reference external link official website extension directory</th>\n",
       "      <td>0.808613</td>\n",
       "    </tr>\n",
       "    <tr>\n",
       "      <th>joomla free open source content management system cm publish web content build model view controller web application framework use independently cm joomla write php use object orient programme oop technique since version software design pattern store datum mysql ms sql since version postgresql since version database include feature page cache rss feed printable version page news flash blog search support language internationalization november joomla download million time free commercial extension available official joomla extension directory available source estimate use content management system internet wordpress history joomla result fork mambo august time mambo name trademark miro international pvt ltd form non profit foundation state purpose fund project protect lawsuit joomla development team claim many provision foundation structure violate previous agreement make elect mambo steer committee lack necessary consultation key stakeholder include provision violate core open source value joomla developer create website call opensourcematter org osm distribute information software community project leader andrew eddie write letter appear announcement section public forum mamboserver com one thousand people join opensourcematter org within day post word encouragement support website receive slashdot effect result miro ceo peter lamont respond publicly development team article title mambo open source controversy question miro event create controversy within free software community definition open source forum open source project active posting action side two week follow eddie announcement team organize community continue grow eben moglen software freedom law center sflc assist joomla core team begin august indicate moglen blog entry date relate osm announcement sflc continue provide legal guidance joomla project august andrew eddie call community input suggest name project core team reserve right final name decision choose name suggest community september new name joomla announce anglicise spell swahili word jumla mean together whole conjurer similar mean little amharic arabic urdu september development team call logo submission community invite community vote logo team announce community decision september october brand guideline brand manual set logo resource publish version history joomla release september rebranded release mambo combine bug moderate level security fix joomla release january late release version march version attain long term support lt version release three major minor release support three month next lts version release april mark official end life joomla joomla release support joomla fade away april joomla release january version add full access control list functionality plus user define category hierarchy admin interface improvement joomla release july six month version add enhance security improve migration tool joomla release january six month version long term support lts release originally release however developer announce august would rename fit new version numb scheme every lts release x release version run database besides mysql support version extend end joomla release september originally suppose release july however january july release schedule uncomfortable volunteer schedule change september march release december decide add one version x series improve development life cycle extend support lts version joomla release april release include several new feature include tag joomla release november release highlight content version joomla release april release feature improve password hash microdata documentation power mediawiki translate extension april joomla production leadership team announce start follow semantic version scheme new joomla build early lt long term support st short term support lifecycle policy long observe joomla version version release new development strategy joomla release february release contain improve security advancement composer integration google captcha recaptcha several new feature extensive security revision roll october release v joomla release march release contain download system information category item counter insert module article drag drop image joomla release july release contain download subform field show menu item improve ux improve joomla update menu type acl category fly joomla release april release contain custom field improve workflow multilingual association manager backend menu manager improve update system cache system package extension management easy extension maintenance ux improvement joomla release september release contain improve route system joomla compatibility layer installable multilingual sample datum code improvement encryption support use sodium extension php via sodium compat polyfill low support version upcoming joomla release last schedule minor release joomla x series long term support release deployment like many web application joomla may run lamp stack many web host control panel automatic installation joomla window joomla install use microsoft web platform installer automatically detect install dependency php mysql migration configuration php joomla utilise configuration file configuration php usually locate root joomla installation control various setting include limit database connection setting due use configuration file migrate one server another relatively simple community two large joomla conference year joomla beyond jab conference largely aim joomla developer site integrator host europe around may year joomla world conference bring together developer designer site administrator business owner community member hold latter half year year joomla community hold country regional joomladay joomla conjurer like many code community host many regional user group good extension joomla extension extend functionality joomla website eight type extension may distinguish component module plugin template language library file package extension handle specific function many extension build joomla community free require payment download component large complex extension component two part site part administrator part every time joomla page load one component call render main page body component produce major portion page component drive menu item plugin advance extension essence event handler execution part joomla module component event may trigger event trigger plugin register handle event execute example plugin can use block user submit article filter text line plugin component sometimes little fuzzy sometimes large advance plugin call component even though actually render large portion page sef url extension may create component even though functionality can accomplish plugin template describe main design joomla website cm manage website content template determine style look feel layout site module dynamic static output template position template define dynamic position assign module example can box login form sidebar can compare another cm widget sidebar multiple module assign position module assignment control per menu item historically module assign sidebar around main component output language simple extension either use core part extension language font information conjurer use pdf psd joomla conversion library usually extra php library provide functionality component module plugin work correctly google apis file single file install anywhere joomla file system example include allow extension developer provide extra template view package allow user install combination extension type list allow relate package install uninstalled one action rather separate entity award joomla cm receive many award recognition since create back linux open source award london well linux open source project packt open source award well open source cm uk linux open source award well linux open source project joomla win uk linuxworld packt open source award well php open source cm packt open source award open source cm value person personal award johan janssen st runner well open source cm st runner well overall open source cm packt open source award open source cm value person personal award louis landry st runner packt hall fame cm nd runner well open source cm packt open source award nd runner hall fame cm packt open source award well open source cm infoworld bossie award well open source application cm critic people choice award well open source php cm cm critic people choice award well free cm cm critic people choice award well free cm cm critic people choice award well free cm see conjurer list content management system comparison web framework reference external link official website documentation joomla trust cm joomla maan software</th>\n",
       "      <td>0.806594</td>\n",
       "    </tr>\n",
       "    <tr>\n",
       "      <th>pluck conjurer know pluck cm open source content management system write php script language allow webpage creation user little programme experience unlike content management system use database store datum pluck conjurer include module system allow developer integrate custom functionality system functionality pluck follow functionality page creation theming system module support trashcan include default module album blog contact form functionality add module system history version pluck release name cmssystem one man project code release open source license version release respectively though exact date unknown version name pluck conjurer version release gnu general public license source code move launchpad github bill creswell join development team vulnerability july accord secunia pluck one unpatched security advisory total vulnerability allow arbitrary php code execute rate highly critical code patch current version reference external link official website documentation support forum</th>\n",
       "      <td>0.799721</td>\n",
       "    </tr>\n",
       "  </tbody>\n",
       "</table>\n",
       "</div>"
      ],
      "text/plain": [
       "                                                    cosine_sim\n",
       "mysql                                                 1.000000\n",
       "cm make simple cmsm free open source gpl conten...    0.829092\n",
       "exponent cm free open source open standard modu...    0.809465\n",
       "virtuemart formerly know mambo phpshop open sou...    0.808613\n",
       "joomla free open source content management syst...    0.806594\n",
       "pluck conjurer know pluck cm open source conten...    0.799721"
      ]
     },
     "execution_count": 32,
     "metadata": {},
     "output_type": "execute_result"
    }
   ],
   "source": [
    "SVD_df[['cosine_sim']].sort_values('cosine_sim', ascending=False).head(6)"
   ]
  },
  {
   "cell_type": "code",
   "execution_count": null,
   "metadata": {},
   "outputs": [],
   "source": []
  }
 ],
 "metadata": {
  "kernelspec": {
   "display_name": "Python 3",
   "language": "python",
   "name": "python3"
  },
  "language_info": {
   "codemirror_mode": {
    "name": "ipython",
    "version": 3
   },
   "file_extension": ".py",
   "mimetype": "text/x-python",
   "name": "python",
   "nbconvert_exporter": "python",
   "pygments_lexer": "ipython3",
   "version": "3.6.2"
  }
 },
 "nbformat": 4,
 "nbformat_minor": 2
}
