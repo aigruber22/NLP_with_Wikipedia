{
 "cells": [
  {
   "cell_type": "markdown",
   "metadata": {},
   "source": [
    "### Summary of Project, NLP_with_Wikipedia\n",
    "\n",
    "The objective of this assignment is to engineer a novel wikipedia search engine using what you've learned about data collection, infrastructure, and natural language processing.\n",
    "\n",
    "The project has two components:\n",
    "- Data collection\n",
    "- Search algorithm development"
   ]
  },
  {
   "cell_type": "markdown",
   "metadata": {},
   "source": [
    "### Summary of Notebook:\n",
    "\n",
    "The following is notebook 3 of 3 for this project, NLP_with_Wikipedia.\n",
    "\n",
    "Steps contained in this notebook specifically:\n",
    "1. Read in and apply `TfidfVectorizer` to dataset\n",
    "2. Create `search_terms` and apply `TfidfVectorizer` to those terms\n",
    "3. Use `cosine_similarity` to find top 5 articles most related to a single term from `search_terms`"
   ]
  },
  {
   "cell_type": "markdown",
   "metadata": {},
   "source": [
    "----------------------"
   ]
  },
  {
   "cell_type": "markdown",
   "metadata": {},
   "source": [
    "### Initialization"
   ]
  },
  {
   "cell_type": "code",
   "execution_count": 1,
   "metadata": {},
   "outputs": [
    {
     "name": "stdout",
     "output_type": "stream",
     "text": [
      "[nltk_data] Downloading package stopwords to /home/jovyan/nltk_data...\n",
      "[nltk_data]   Package stopwords is already up-to-date!\n"
     ]
    }
   ],
   "source": [
    "% run __init__.py\n",
    "% run nlp.py\n",
    "% matplotlib inline"
   ]
  },
  {
   "cell_type": "markdown",
   "metadata": {},
   "source": [
    "### Read in data"
   ]
  },
  {
   "cell_type": "code",
   "execution_count": 2,
   "metadata": {},
   "outputs": [
    {
     "name": "stdout",
     "output_type": "stream",
     "text": [
      "/home/jovyan/Documents/GA_DSI/Projects/project_4\n"
     ]
    }
   ],
   "source": [
    "cd .."
   ]
  },
  {
   "cell_type": "code",
   "execution_count": 3,
   "metadata": {},
   "outputs": [],
   "source": [
    "wiki_df = pd.read_pickle('data/wiki_df.p')"
   ]
  },
  {
   "cell_type": "markdown",
   "metadata": {},
   "source": [
    "### Tfidf Vectorizing and Term Matrix DF Construction"
   ]
  },
  {
   "cell_type": "code",
   "execution_count": 5,
   "metadata": {},
   "outputs": [],
   "source": [
    "from sklearn.preprocessing import LabelEncoder\n",
    "le = LabelEncoder()"
   ]
  },
  {
   "cell_type": "code",
   "execution_count": 6,
   "metadata": {},
   "outputs": [],
   "source": [
    "wiki_df['class_label'] = le.fit_transform(wiki_df['parent_category'])"
   ]
  },
  {
   "cell_type": "code",
   "execution_count": 7,
   "metadata": {},
   "outputs": [
    {
     "data": {
      "text/plain": [
       "array([1, 0])"
      ]
     },
     "execution_count": 7,
     "metadata": {},
     "output_type": "execute_result"
    }
   ],
   "source": [
    "wiki_df['class_label'].unique()"
   ]
  },
  {
   "cell_type": "code",
   "execution_count": 9,
   "metadata": {},
   "outputs": [],
   "source": [
    "from sklearn.feature_extraction.text import TfidfVectorizer\n",
    "tfidf = TfidfVectorizer(ngram_range=(1,1), min_df = 1, stop_words = 'english')"
   ]
  },
  {
   "cell_type": "code",
   "execution_count": 10,
   "metadata": {},
   "outputs": [],
   "source": [
    "term_matrix = tfidf.fit_transform(wiki_df['text_clean'])"
   ]
  },
  {
   "cell_type": "code",
   "execution_count": 11,
   "metadata": {},
   "outputs": [],
   "source": [
    "term_matrix_df = pd.DataFrame(term_matrix.toarray(), \n",
    "                             index=wiki_df.text_clean,\n",
    "                             columns=tfidf.get_feature_names())"
   ]
  },
  {
   "cell_type": "markdown",
   "metadata": {},
   "source": [
    "### Create `search_terms` to use for testing search capabilities"
   ]
  },
  {
   "cell_type": "code",
   "execution_count": 14,
   "metadata": {},
   "outputs": [],
   "source": [
    "search_terms = [\n",
    "    {'term':'software'}, \n",
    "    {'term':'language'}, \n",
    "    {'term':'system'}, \n",
    "    {'term':'mysql'}\n",
    "]"
   ]
  },
  {
   "cell_type": "code",
   "execution_count": 15,
   "metadata": {},
   "outputs": [],
   "source": [
    "search_terms_df = pd.DataFrame(search_terms)"
   ]
  },
  {
   "cell_type": "markdown",
   "metadata": {},
   "source": [
    "### TFIDF_Vectorize `search_terms`"
   ]
  },
  {
   "cell_type": "code",
   "execution_count": 17,
   "metadata": {},
   "outputs": [],
   "source": [
    "search_terms_matrix = tfidf.transform(search_terms_df.term)"
   ]
  },
  {
   "cell_type": "code",
   "execution_count": 18,
   "metadata": {},
   "outputs": [],
   "source": [
    "search_terms_matrix_df = pd.DataFrame(search_terms_matrix.toarray(), \n",
    "                                     index=search_terms_df.term, \n",
    "                                     columns=tfidf.get_feature_names())"
   ]
  },
  {
   "cell_type": "markdown",
   "metadata": {},
   "source": [
    "### Select a `search_term` and run a search"
   ]
  },
  {
   "cell_type": "code",
   "execution_count": 20,
   "metadata": {},
   "outputs": [],
   "source": [
    "np.random.seed(22)"
   ]
  },
  {
   "cell_type": "code",
   "execution_count": 21,
   "metadata": {
    "scrolled": true
   },
   "outputs": [
    {
     "data": {
      "text/html": [
       "<div>\n",
       "<table border=\"1\" class=\"dataframe\">\n",
       "  <thead>\n",
       "    <tr style=\"text-align: right;\">\n",
       "      <th></th>\n",
       "      <th>aa</th>\n",
       "      <th>aaa</th>\n",
       "      <th>aaaa</th>\n",
       "      <th>aaaaj</th>\n",
       "      <th>aaabc</th>\n",
       "      <th>aaabcaaabcaaabcaaabc</th>\n",
       "      <th>aaai</th>\n",
       "      <th>aaajxb</th>\n",
       "      <th>aaas</th>\n",
       "      <th>aab</th>\n",
       "      <th>...</th>\n",
       "      <th>zylab</th>\n",
       "      <th>zynga</th>\n",
       "      <th>zynx</th>\n",
       "      <th>zynxambulatory</th>\n",
       "      <th>zynxcare</th>\n",
       "      <th>zynxevidence</th>\n",
       "      <th>zynxorder</th>\n",
       "      <th>zyrion</th>\n",
       "      <th>zz</th>\n",
       "      <th>zzap</th>\n",
       "    </tr>\n",
       "    <tr>\n",
       "      <th>term</th>\n",
       "      <th></th>\n",
       "      <th></th>\n",
       "      <th></th>\n",
       "      <th></th>\n",
       "      <th></th>\n",
       "      <th></th>\n",
       "      <th></th>\n",
       "      <th></th>\n",
       "      <th></th>\n",
       "      <th></th>\n",
       "      <th></th>\n",
       "      <th></th>\n",
       "      <th></th>\n",
       "      <th></th>\n",
       "      <th></th>\n",
       "      <th></th>\n",
       "      <th></th>\n",
       "      <th></th>\n",
       "      <th></th>\n",
       "      <th></th>\n",
       "      <th></th>\n",
       "    </tr>\n",
       "  </thead>\n",
       "  <tbody>\n",
       "    <tr>\n",
       "      <th>mysql</th>\n",
       "      <td>0.0</td>\n",
       "      <td>0.0</td>\n",
       "      <td>0.0</td>\n",
       "      <td>0.0</td>\n",
       "      <td>0.0</td>\n",
       "      <td>0.0</td>\n",
       "      <td>0.0</td>\n",
       "      <td>0.0</td>\n",
       "      <td>0.0</td>\n",
       "      <td>0.0</td>\n",
       "      <td>...</td>\n",
       "      <td>0.0</td>\n",
       "      <td>0.0</td>\n",
       "      <td>0.0</td>\n",
       "      <td>0.0</td>\n",
       "      <td>0.0</td>\n",
       "      <td>0.0</td>\n",
       "      <td>0.0</td>\n",
       "      <td>0.0</td>\n",
       "      <td>0.0</td>\n",
       "      <td>0.0</td>\n",
       "    </tr>\n",
       "  </tbody>\n",
       "</table>\n",
       "<p>1 rows × 51439 columns</p>\n",
       "</div>"
      ],
      "text/plain": [
       "        aa  aaa  aaaa  aaaaj  aaabc  aaabcaaabcaaabcaaabc  aaai  aaajxb  aaas  \\\n",
       "term                                                                            \n",
       "mysql  0.0  0.0   0.0    0.0    0.0                   0.0   0.0     0.0   0.0   \n",
       "\n",
       "       aab  ...   zylab  zynga  zynx  zynxambulatory  zynxcare  zynxevidence  \\\n",
       "term        ...                                                                \n",
       "mysql  0.0  ...     0.0    0.0   0.0             0.0       0.0           0.0   \n",
       "\n",
       "       zynxorder  zyrion   zz  zzap  \n",
       "term                                 \n",
       "mysql        0.0     0.0  0.0   0.0  \n",
       "\n",
       "[1 rows x 51439 columns]"
      ]
     },
     "execution_count": 21,
     "metadata": {},
     "output_type": "execute_result"
    }
   ],
   "source": [
    "random_search_term_df = search_terms_matrix_df.sample()\n",
    "random_search_term_df"
   ]
  },
  {
   "cell_type": "code",
   "execution_count": 22,
   "metadata": {},
   "outputs": [],
   "source": [
    "df_search = term_matrix_df.append(random_search_term_df)"
   ]
  },
  {
   "cell_type": "code",
   "execution_count": 23,
   "metadata": {},
   "outputs": [],
   "source": [
    "n_components = 50\n",
    "SVD = TruncatedSVD(n_components)"
   ]
  },
  {
   "cell_type": "code",
   "execution_count": 24,
   "metadata": {},
   "outputs": [],
   "source": [
    "component_names = [\"component_\"+str(i+1) for i in range(n_components)]"
   ]
  },
  {
   "cell_type": "code",
   "execution_count": 25,
   "metadata": {},
   "outputs": [],
   "source": [
    "SVD_data = SVD.fit_transform(df_search)"
   ]
  },
  {
   "cell_type": "code",
   "execution_count": 26,
   "metadata": {},
   "outputs": [],
   "source": [
    "SVD_df = pd.DataFrame(SVD_data, \n",
    "                     index=df_search.index, \n",
    "                     columns=component_names)"
   ]
  },
  {
   "cell_type": "markdown",
   "metadata": {},
   "source": [
    "### Cosine Similarity to find top 5 related articles to `search_term`"
   ]
  },
  {
   "cell_type": "code",
   "execution_count": 27,
   "metadata": {},
   "outputs": [],
   "source": [
    "from sklearn.metrics.pairwise import cosine_similarity"
   ]
  },
  {
   "cell_type": "code",
   "execution_count": 28,
   "metadata": {},
   "outputs": [
    {
     "data": {
      "text/html": [
       "<div>\n",
       "<table border=\"1\" class=\"dataframe\">\n",
       "  <thead>\n",
       "    <tr style=\"text-align: right;\">\n",
       "      <th></th>\n",
       "      <th>component_1</th>\n",
       "      <th>component_2</th>\n",
       "      <th>component_3</th>\n",
       "      <th>component_4</th>\n",
       "      <th>component_5</th>\n",
       "      <th>component_6</th>\n",
       "      <th>component_7</th>\n",
       "      <th>component_8</th>\n",
       "      <th>component_9</th>\n",
       "      <th>component_10</th>\n",
       "      <th>...</th>\n",
       "      <th>component_41</th>\n",
       "      <th>component_42</th>\n",
       "      <th>component_43</th>\n",
       "      <th>component_44</th>\n",
       "      <th>component_45</th>\n",
       "      <th>component_46</th>\n",
       "      <th>component_47</th>\n",
       "      <th>component_48</th>\n",
       "      <th>component_49</th>\n",
       "      <th>component_50</th>\n",
       "    </tr>\n",
       "  </thead>\n",
       "  <tbody>\n",
       "    <tr>\n",
       "      <th>mysql</th>\n",
       "      <td>0.008956</td>\n",
       "      <td>-0.007938</td>\n",
       "      <td>-0.006568</td>\n",
       "      <td>-0.007648</td>\n",
       "      <td>-0.020818</td>\n",
       "      <td>0.004924</td>\n",
       "      <td>0.009098</td>\n",
       "      <td>-0.018215</td>\n",
       "      <td>0.010778</td>\n",
       "      <td>0.004295</td>\n",
       "      <td>...</td>\n",
       "      <td>-0.005058</td>\n",
       "      <td>-0.01955</td>\n",
       "      <td>-0.005789</td>\n",
       "      <td>-0.016604</td>\n",
       "      <td>-0.005257</td>\n",
       "      <td>-0.003277</td>\n",
       "      <td>-0.017035</td>\n",
       "      <td>-0.012724</td>\n",
       "      <td>-0.016574</td>\n",
       "      <td>-0.000082</td>\n",
       "    </tr>\n",
       "  </tbody>\n",
       "</table>\n",
       "<p>1 rows × 50 columns</p>\n",
       "</div>"
      ],
      "text/plain": [
       "       component_1  component_2  component_3  component_4  component_5  \\\n",
       "mysql     0.008956    -0.007938    -0.006568    -0.007648    -0.020818   \n",
       "\n",
       "       component_6  component_7  component_8  component_9  component_10  \\\n",
       "mysql     0.004924     0.009098    -0.018215     0.010778      0.004295   \n",
       "\n",
       "           ...       component_41  component_42  component_43  component_44  \\\n",
       "mysql      ...          -0.005058      -0.01955     -0.005789     -0.016604   \n",
       "\n",
       "       component_45  component_46  component_47  component_48  component_49  \\\n",
       "mysql     -0.005257     -0.003277     -0.017035     -0.012724     -0.016574   \n",
       "\n",
       "       component_50  \n",
       "mysql     -0.000082  \n",
       "\n",
       "[1 rows x 50 columns]"
      ]
     },
     "execution_count": 28,
     "metadata": {},
     "output_type": "execute_result"
    }
   ],
   "source": [
    "SVD_term_vect = SVD_df.loc[random_search_term_df.index]\n",
    "SVD_term_vect"
   ]
  },
  {
   "cell_type": "code",
   "execution_count": 29,
   "metadata": {},
   "outputs": [
    {
     "data": {
      "text/plain": [
       "((4100, 50), (1, 50))"
      ]
     },
     "execution_count": 29,
     "metadata": {},
     "output_type": "execute_result"
    }
   ],
   "source": [
    "SVD_df.shape, SVD_term_vect.shape"
   ]
  },
  {
   "cell_type": "code",
   "execution_count": 30,
   "metadata": {
    "scrolled": true
   },
   "outputs": [],
   "source": [
    "SVD_df['cosine_sim'] = cosine_similarity(SVD_df, SVD_term_vect)"
   ]
  },
  {
   "cell_type": "markdown",
   "metadata": {},
   "source": [
    "### Final Result to Search"
   ]
  },
  {
   "cell_type": "code",
   "execution_count": 32,
   "metadata": {
    "scrolled": true
   },
   "outputs": [
    {
     "data": {
      "text/html": [
       "<div>\n",
       "<table border=\"1\" class=\"dataframe\">\n",
       "  <thead>\n",
       "    <tr style=\"text-align: right;\">\n",
       "      <th></th>\n",
       "      <th>cosine_sim</th>\n",
       "    </tr>\n",
       "  </thead>\n",
       "  <tbody>\n",
       "    <tr>\n",
       "      <th>mysql</th>\n",
       "      <td>1.000000</td>\n",
       "    </tr>\n",
       "    <tr>\n",
       "      <th>cm make simple cmsm free open source gpl content management system cm provide developer programmer site owner web base development administration area packt publish annual award open source content management system compare include drupal wordpress ez publish joomla software design cm make simple open source package build use php support mysql although postgresql previously support developer choose remove postgresql support recent version long support database except mysql template system drive use smarty template engine cm make simple aim provide easy development customization theme add module dynamic menu tag translation develope new feature tab open full default text developer start erase bit need add tag link plugin know module suggest customise exist work markup code feature cm make simple web base admin section theme template stylesheet development install update add module configure page content block user group permission module theme module cm make simple design base package impose unnecessary module functionality user require site owner add module tag appropriate site small numb core module include default installation notably news manager search function wysiwyg editor tinymce plugin add module gallery guestbook form builder captcha company user directory e commerce shop calendar blog rss numerous additional module available via module repository module manager lack inventory management support party payment process mechanism paypal module ship sale tax calculator shop cart functionality available drupal joomla wordpress need build e commerce site theme internal template stylesheet system allow end user theme creation other available theme repository download developer choose one close wish customise software requirement cmsm require web server php enable php recommend phar support putenv support work system temporary directory installation assistant cmsm x require minimum php recommend little mb available memory php php tokenizer support enable gd enable manipulate graphic file mysql enough access server upload file change permission note cm make simple officially support php safe mode support support cm make simple include content install default build help online doc commercial pay support community cm make simple hold annual meet enthusiast know geek moot seminar q discussion hold history oct three quarter million download reach aug cm make simple reach one million download release history see conjurer content management system list content management system reference external link official site official site cm make simple official support forum official core module development forge official documentation tutorial tutorial beginner concise introduction cm make simple</th>\n",
       "      <td>0.829092</td>\n",
       "    </tr>\n",
       "    <tr>\n",
       "      <th>exponent cm free open source open standard modular enterprise software framework content management system cm write programme language php exponent cm edit system allow website content edit page appear without back end administration default installation include set module manage typical website additional module develope community open source developer install via web browser exponent cm install linux unix mac os x window environment platform support apache web server php language version x exponent cm currently require mysql recommend database store content setting history exponent cm originally write design jame hunt oic group inc start minor contribution make oic member fr dirkse greg otte adam kessler original work do hunt hunt leave oic group bug fix do exponent dirkse kessler come back oic group together dirkse try revitalize project release version follow shortly thereafter summer oic hire phillip ball active member exponent cm open source community version ship shortly try get release ready kessler start plan new model view controller mvc framework exponent ball involve yui library two different research path converge fall kessler ball start new version kessler write new exponent framework ball clean write interface try tightly integrate yui javascript library result exponent exponent mvc exponent release summer follow series pre release version exponent release version exponent release gpl january exponent cm site switch new forum software addition software bug report system available core functionality exponent cm exponent framework still manage oic group community open source developer make module translation theme contribution current exponent cm software news provide via website blog theme exponent cm design grind designer mind theme exponent cm write use html xhtml css hook place theme file integrate exponent cm theme html base design convert exponent theme exponent cm content presentation separate accomplish smarty template engine use creation view view allow content display different look customize match theme site translation translation exponent cm x interface available language english default danish dansk german deutsch english source manage oic group inc danish translation manage elund christensen jen thomsen thoma b nielsen german translation manage gerhard starrermayr exponent x currently available english spanish german danish french norwegian portuguese czech finnish ready easy translation language see conjurer content management system list content management system reference external link exponent cm website exponent cm facebook exponent cm twitter exponent cm documentation website open source cm exponent demo</th>\n",
       "      <td>0.809465</td>\n",
       "    </tr>\n",
       "    <tr>\n",
       "      <th>virtuemart formerly know mambo phpshop open source e commerce solution design extension mambo joomla content management system cm virtuemart write php require mysql database environment storage well suit low medium level traffic web site history virtuemart begin offshoot stand alone phpshop e commerce web application originally dub mambo phpshop become substantial native e commerce component mambo cm system community fork mambo joomla developer brand mambo phpshop virtuemart officially support new joomla cm current implementation may still function mambo cm old edition mambo phpshop still available download long actively support originally develope ren eberhardt biermann september new team begin develope virtuemart new version release december october developer team declare end life virtuemart virtuemart long maintain joomla compatibility feature virtuemart support unlimited numb product category product able assign multiple category conjurer permit sale downloadable product offer catalog mode shop cart feature turn virtuemart support multiple price single product base around shopper group quantity range permit use variety different payment gateway virtuemart open source e commerce solution application code openly visible php allow php developer view update customize operation shop cart addition virtuemart offer simplify template call fly page virtuemart structure allow various shop cart page edit standard html css notably new virtuemart inclusion ability quickly change theme category product checkout cart page cart conjurer integrate rapid enable transaction datum send directly customer browser payment gateway without pass merchant system virtuemart support iphone app ivmstore usage virtuemart adopt online retailer week sep rd quantcast datum collate builtwith trend indicate virtuemart run top k site top k site top million site requirement virtuemart plugin joomla mambo system requirement several require support library extension include mysql xml zlib support build php support https openssl curl recommend compatibility virtuemart x compatible joomla x virtuemart x compatible joomla x virtuemart x compatible joomla x virtuemart x compatible joomla x virtuemart x compatible joomla x joomla x read virtuemart x x michelle griffin website design guide joomla virtuemart extension corporationguru isbn sarkar suhreed joomla e commerce virtuemart build feature rich online store joomla virtuemart x packt publish isbn joseph kwan joomla virtuemart theme template design packt publish isbn g tz nemeth virtuemart der joomla shop german franzis verlag isbn martin blasczyk das offizielle virtuemart buch online shop aufbauen und betreiben mit joomla german addison wesley isbn val rie isaksen thierry tardif joomla et virtuemart r ussir sa boutique en ligne french eyroll isbn jean l anderruthy joomla cr ez un site web et une boutique en ligne avec virtuemart volume french edition eni isbn roberto chimenti crea il tuo e commerce con joomla virtuemart italian hoepli isbn g j fierloo mystudy virtuemart dutch duuren medium van isbn virtuemart x x kerry w watson showme guide virtuemart user manual createspace isbn nemeth g tz virtuemart german franzis verlag isbn martin blasczyk das offizielle virtuemart buch online shop aufbauen und betreiben mit joomla german addison wesley sep isbn sasa paporovic virtuemart x der grundkur video tutorial german createspace independent publish platform asin b irlhs val rie isaksen thierry tardif r ussir sa boutique en ligne joomla et virtuemart french eyroll sep isbn see conjurer comparison shop cart software list online payment service provider reference external link official website extension directory</th>\n",
       "      <td>0.808613</td>\n",
       "    </tr>\n",
       "    <tr>\n",
       "      <th>joomla free open source content management system cm publish web content build model view controller web application framework use independently cm joomla write php use object orient programme oop technique since version software design pattern store datum mysql ms sql since version postgresql since version database include feature page cache rss feed printable version page news flash blog search support language internationalization november joomla download million time free commercial extension available official joomla extension directory available source estimate use content management system internet wordpress history joomla result fork mambo august time mambo name trademark miro international pvt ltd form non profit foundation state purpose fund project protect lawsuit joomla development team claim many provision foundation structure violate previous agreement make elect mambo steer committee lack necessary consultation key stakeholder include provision violate core open source value joomla developer create website call opensourcematter org osm distribute information software community project leader andrew eddie write letter appear announcement section public forum mamboserver com one thousand people join opensourcematter org within day post word encouragement support website receive slashdot effect result miro ceo peter lamont respond publicly development team article title mambo open source controversy question miro event create controversy within free software community definition open source forum open source project active posting action side two week follow eddie announcement team organize community continue grow eben moglen software freedom law center sflc assist joomla core team begin august indicate moglen blog entry date relate osm announcement sflc continue provide legal guidance joomla project august andrew eddie call community input suggest name project core team reserve right final name decision choose name suggest community september new name joomla announce anglicise spell swahili word jumla mean together whole conjurer similar mean little amharic arabic urdu september development team call logo submission community invite community vote logo team announce community decision september october brand guideline brand manual set logo resource publish version history joomla release september rebranded release mambo combine bug moderate level security fix joomla release january late release version march version attain long term support lt version release three major minor release support three month next lts version release april mark official end life joomla joomla release support joomla fade away april joomla release january version add full access control list functionality plus user define category hierarchy admin interface improvement joomla release july six month version add enhance security improve migration tool joomla release january six month version long term support lts release originally release however developer announce august would rename fit new version numb scheme every lts release x release version run database besides mysql support version extend end joomla release september originally suppose release july however january july release schedule uncomfortable volunteer schedule change september march release december decide add one version x series improve development life cycle extend support lts version joomla release april release include several new feature include tag joomla release november release highlight content version joomla release april release feature improve password hash microdata documentation power mediawiki translate extension april joomla production leadership team announce start follow semantic version scheme new joomla build early lt long term support st short term support lifecycle policy long observe joomla version version release new development strategy joomla release february release contain improve security advancement composer integration google captcha recaptcha several new feature extensive security revision roll october release v joomla release march release contain download system information category item counter insert module article drag drop image joomla release july release contain download subform field show menu item improve ux improve joomla update menu type acl category fly joomla release april release contain custom field improve workflow multilingual association manager backend menu manager improve update system cache system package extension management easy extension maintenance ux improvement joomla release september release contain improve route system joomla compatibility layer installable multilingual sample datum code improvement encryption support use sodium extension php via sodium compat polyfill low support version upcoming joomla release last schedule minor release joomla x series long term support release deployment like many web application joomla may run lamp stack many web host control panel automatic installation joomla window joomla install use microsoft web platform installer automatically detect install dependency php mysql migration configuration php joomla utilise configuration file configuration php usually locate root joomla installation control various setting include limit database connection setting due use configuration file migrate one server another relatively simple community two large joomla conference year joomla beyond jab conference largely aim joomla developer site integrator host europe around may year joomla world conference bring together developer designer site administrator business owner community member hold latter half year year joomla community hold country regional joomladay joomla conjurer like many code community host many regional user group good extension joomla extension extend functionality joomla website eight type extension may distinguish component module plugin template language library file package extension handle specific function many extension build joomla community free require payment download component large complex extension component two part site part administrator part every time joomla page load one component call render main page body component produce major portion page component drive menu item plugin advance extension essence event handler execution part joomla module component event may trigger event trigger plugin register handle event execute example plugin can use block user submit article filter text line plugin component sometimes little fuzzy sometimes large advance plugin call component even though actually render large portion page sef url extension may create component even though functionality can accomplish plugin template describe main design joomla website cm manage website content template determine style look feel layout site module dynamic static output template position template define dynamic position assign module example can box login form sidebar can compare another cm widget sidebar multiple module assign position module assignment control per menu item historically module assign sidebar around main component output language simple extension either use core part extension language font information conjurer use pdf psd joomla conversion library usually extra php library provide functionality component module plugin work correctly google apis file single file install anywhere joomla file system example include allow extension developer provide extra template view package allow user install combination extension type list allow relate package install uninstalled one action rather separate entity award joomla cm receive many award recognition since create back linux open source award london well linux open source project packt open source award well open source cm uk linux open source award well linux open source project joomla win uk linuxworld packt open source award well php open source cm packt open source award open source cm value person personal award johan janssen st runner well open source cm st runner well overall open source cm packt open source award open source cm value person personal award louis landry st runner packt hall fame cm nd runner well open source cm packt open source award nd runner hall fame cm packt open source award well open source cm infoworld bossie award well open source application cm critic people choice award well open source php cm cm critic people choice award well free cm cm critic people choice award well free cm cm critic people choice award well free cm see conjurer list content management system comparison web framework reference external link official website documentation joomla trust cm joomla maan software</th>\n",
       "      <td>0.806594</td>\n",
       "    </tr>\n",
       "    <tr>\n",
       "      <th>pluck conjurer know pluck cm open source content management system write php script language allow webpage creation user little programme experience unlike content management system use database store datum pluck conjurer include module system allow developer integrate custom functionality system functionality pluck follow functionality page creation theming system module support trashcan include default module album blog contact form functionality add module system history version pluck release name cmssystem one man project code release open source license version release respectively though exact date unknown version name pluck conjurer version release gnu general public license source code move launchpad github bill creswell join development team vulnerability july accord secunia pluck one unpatched security advisory total vulnerability allow arbitrary php code execute rate highly critical code patch current version reference external link official website documentation support forum</th>\n",
       "      <td>0.799721</td>\n",
       "    </tr>\n",
       "  </tbody>\n",
       "</table>\n",
       "</div>"
      ],
      "text/plain": [
       "                                                    cosine_sim\n",
       "mysql                                                 1.000000\n",
       "cm make simple cmsm free open source gpl conten...    0.829092\n",
       "exponent cm free open source open standard modu...    0.809465\n",
       "virtuemart formerly know mambo phpshop open sou...    0.808613\n",
       "joomla free open source content management syst...    0.806594\n",
       "pluck conjurer know pluck cm open source conten...    0.799721"
      ]
     },
     "execution_count": 32,
     "metadata": {},
     "output_type": "execute_result"
    }
   ],
   "source": [
    "SVD_df[['cosine_sim']].sort_values('cosine_sim', ascending=False).head(6)"
   ]
  },
  {
   "cell_type": "code",
   "execution_count": null,
   "metadata": {},
   "outputs": [],
   "source": []
  }
 ],
 "metadata": {
  "kernelspec": {
   "display_name": "Python 3",
   "language": "python",
   "name": "python3"
  },
  "language_info": {
   "codemirror_mode": {
    "name": "ipython",
    "version": 3
   },
   "file_extension": ".py",
   "mimetype": "text/x-python",
   "name": "python",
   "nbconvert_exporter": "python",
   "pygments_lexer": "ipython3",
   "version": "3.6.2"
  }
 },
 "nbformat": 4,
 "nbformat_minor": 2
}
